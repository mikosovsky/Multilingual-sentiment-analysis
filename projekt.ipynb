{
 "cells": [
  {
   "cell_type": "markdown",
   "id": "46f6840d",
   "metadata": {},
   "source": [
    "**Temat:** Analiza sentymentu w tekstach internetowych w oparciu o sieci typu Transformer\n",
    "\n",
    "**Wprowadzenie:** Analiza sentymentu to technika przetwarzania języka naturalnego (NLP), która identyfikuje ton emocjonalny w tekście, klasyfikując go na pozytywny, negatywny lub neutralny. Wykorzystuje się ją do badania opinii klientów, monitorowania reputacji marki czy analizy treści mediów społecznościowych.\n",
    "\n",
    "**Cel projektu:** Celem projektu jest opracowanie i implementacja modelu analizy sentymentu, który pozwoli na klasyfikację opinii użytkowników na podstawie tekstów pochodzących z Internetu. Należy przeanalizować dane tekstowe, przygotować odpowiedni model oraz zaprezentować wyniki analizy."
   ]
  },
  {
   "cell_type": "code",
   "execution_count": 14,
   "id": "ab0fbe26",
   "metadata": {},
   "outputs": [],
   "source": [
    "!pip3 install datasets transformers torch 'numpy<2' accelerate --quiet"
   ]
  },
  {
   "cell_type": "markdown",
   "id": "ddd654a6",
   "metadata": {},
   "source": [
    "### Ładowanie danych"
   ]
  },
  {
   "cell_type": "code",
   "execution_count": 15,
   "id": "c20d6e4d",
   "metadata": {},
   "outputs": [],
   "source": [
    "from datasets import load_dataset\n",
    "\n",
    "ds = load_dataset(\"clapAI/MultiLingualSentiment\")"
   ]
  },
  {
   "cell_type": "code",
   "execution_count": 180,
   "id": "324912c6",
   "metadata": {},
   "outputs": [
    {
     "name": "stdout",
     "output_type": "stream",
     "text": [
      "Available languages: ['en', 'es', 'ja', 'ar', 'tr', 'fr', 'vi', 'zh', 'de', 'ru', 'ko', 'id', 'multilingual', 'pt', 'ms', 'hi', 'it']\n"
     ]
    }
   ],
   "source": [
    "# what languages are available\n",
    "languages = ds['train'].unique('language')\n",
    "print(\"Available languages:\", languages)\n",
    "ds_types = ['train', 'validation', 'test']\n",
    "# Create dictionary to store datasets for each language\n",
    "datasets_by_language = {}\n",
    "\n",
    "# # Split train, validation and test for each language\n",
    "for lang in languages:\n",
    "    datasets_by_language[lang] = {}\n",
    "    for ds_type in ds_types:\n",
    "        datasets_by_language[lang][ds_type] = ds[ds_type].filter(\n",
    "            lambda batch: [x == lang for x in batch['language']],\n",
    "            batched = True,\n",
    "            num_proc=4\n",
    "            )\n",
    "        \n",
    "        # Reduce dataset by 100 times\n",
    "        rows_counter = datasets_by_language[lang][ds_type].num_rows\n",
    "        new_num_rows = round(rows_counter*0.01)\n",
    "        datasets_by_language[lang][ds_type] = datasets_by_language[lang][ds_type].select(range(new_num_rows))\n",
    "    "
   ]
  },
  {
   "cell_type": "markdown",
   "id": "ea02ea93",
   "metadata": {},
   "source": [
    "### Tworzenie testowego datasetu"
   ]
  },
  {
   "cell_type": "code",
   "execution_count": 181,
   "id": "891fe671",
   "metadata": {},
   "outputs": [],
   "source": [
    "from datasets import concatenate_datasets\n",
    "\n",
    "test_languages = ['en', 'es', 'zh']\n",
    "test_ds_list = [datasets_by_language[lang]['test'] for lang in test_languages]\n",
    "test_dataset = concatenate_datasets(test_ds_list)\n",
    "test_dataset = test_dataset.shuffle(seed=42)"
   ]
  },
  {
   "cell_type": "markdown",
   "id": "eb3c1676",
   "metadata": {},
   "source": [
    "## Zero-shot Prompting"
   ]
  },
  {
   "cell_type": "code",
   "execution_count": 55,
   "id": "cf0af038",
   "metadata": {},
   "outputs": [
    {
     "data": {
      "text/plain": [
       "Qwen3ForCausalLM(\n",
       "  (model): Qwen3Model(\n",
       "    (embed_tokens): Embedding(151936, 1024)\n",
       "    (layers): ModuleList(\n",
       "      (0-27): 28 x Qwen3DecoderLayer(\n",
       "        (self_attn): Qwen3Attention(\n",
       "          (q_proj): Linear(in_features=1024, out_features=2048, bias=False)\n",
       "          (k_proj): Linear(in_features=1024, out_features=1024, bias=False)\n",
       "          (v_proj): Linear(in_features=1024, out_features=1024, bias=False)\n",
       "          (o_proj): Linear(in_features=2048, out_features=1024, bias=False)\n",
       "          (q_norm): Qwen3RMSNorm((128,), eps=1e-06)\n",
       "          (k_norm): Qwen3RMSNorm((128,), eps=1e-06)\n",
       "        )\n",
       "        (mlp): Qwen3MLP(\n",
       "          (gate_proj): Linear(in_features=1024, out_features=3072, bias=False)\n",
       "          (up_proj): Linear(in_features=1024, out_features=3072, bias=False)\n",
       "          (down_proj): Linear(in_features=3072, out_features=1024, bias=False)\n",
       "          (act_fn): SiLU()\n",
       "        )\n",
       "        (input_layernorm): Qwen3RMSNorm((1024,), eps=1e-06)\n",
       "        (post_attention_layernorm): Qwen3RMSNorm((1024,), eps=1e-06)\n",
       "      )\n",
       "    )\n",
       "    (norm): Qwen3RMSNorm((1024,), eps=1e-06)\n",
       "    (rotary_emb): Qwen3RotaryEmbedding()\n",
       "  )\n",
       "  (lm_head): Linear(in_features=1024, out_features=151936, bias=False)\n",
       ")"
      ]
     },
     "execution_count": 55,
     "metadata": {},
     "output_type": "execute_result"
    }
   ],
   "source": [
    "from transformers import AutoModelForCausalLM, AutoTokenizer\n",
    "import torch\n",
    "\n",
    "\n",
    "model_name = 'Qwen/Qwen3-0.6B'\n",
    "tokenizer = AutoTokenizer.from_pretrained(model_name)\n",
    "# For MacBooks with CPU Intel you have to set device_map as cpu and torch_dtype as torch.float32 \n",
    "# otherwise it doesn't compile\n",
    "zero_shot_model = AutoModelForCausalLM.from_pretrained(\n",
    "    model_name,\n",
    "    torch_dtype=torch.float32,\n",
    "    device_map={\"\": \"cpu\"})\n",
    "zero_shot_model.eval()"
   ]
  },
  {
   "cell_type": "code",
   "execution_count": 124,
   "id": "1778cb95",
   "metadata": {},
   "outputs": [],
   "source": [
    "# Prompt template\n",
    "def build_prompt(text):\n",
    "    return f\"Just define in one word the sentiment of this text as positive, negative or neutral:\\n\\\"{text}\\\"\\nAnswer(positive/negative/neutral):\\n\"\n",
    "\n",
    "def predict_sentiment(text):\n",
    "    prompt = build_prompt(text)\n",
    "    zero_shot_model_inputs = tokenizer(prompt, return_tensors=\"pt\").to(zero_shot_model.device)\n",
    "    generated_ids = zero_shot_model.generate(**zero_shot_model_inputs, max_new_tokens=3)\n",
    "    answer = tokenizer.batch_decode(generated_ids)[0][len(prompt):]\n",
    "    return answer"
   ]
  },
  {
   "cell_type": "code",
   "execution_count": 192,
   "id": "878746da",
   "metadata": {},
   "outputs": [
    {
     "name": "stdout",
     "output_type": "stream",
     "text": [
      "I ordered some birth announcement cards for my son, was really pleased with how they turned out everybody said how nice they were. Great discount for first order as well\n",
      "Answer:\n",
      "positive\n",
      "\n",
      "Real answer:\n",
      "positive\n"
     ]
    }
   ],
   "source": [
    "print(test_dataset[0]['text'])\n",
    "print(predict_sentiment(test_dataset[0]['text']))\n",
    "print(f'\\nReal answer:\\n{test_dataset[0]['label']}')"
   ]
  },
  {
   "cell_type": "markdown",
   "id": "0c785c17",
   "metadata": {},
   "source": [
    "### Test Zero-shot prompting"
   ]
  },
  {
   "cell_type": "code",
   "execution_count": 199,
   "id": "747a2dfc",
   "metadata": {},
   "outputs": [],
   "source": [
    "\n",
    "# Mapping dataset and get estimates from LLM\n",
    "def process(result, row):\n",
    "    text = row['text']\n",
    "    answer = predict_sentiment(text)\n",
    "    if row['label'] in answer:\n",
    "        result[row['language']] += 1\n",
    "\n",
    "# Calculate total and for each language accuracy\n",
    "def calc_accuracy(result, ds):\n",
    "    accuracy = {}\n",
    "    for lang in result:\n",
    "        lang_total = ds.filter(\n",
    "            lambda batch: [x == lang for x in batch['language']],\n",
    "            batched = True,\n",
    "            num_proc = 4\n",
    "        ).num_rows\n",
    "        accuracy[lang] = result[lang]/lang_total\n",
    "    total_accuracy = sum(result.values()) / ds.num_rows\n",
    "    accuracy['total'] = total_accuracy\n",
    "    return accuracy\n"
   ]
  },
  {
   "cell_type": "code",
   "execution_count": 208,
   "id": "6584f6c2",
   "metadata": {},
   "outputs": [
    {
     "name": "stderr",
     "output_type": "stream",
     "text": [
      "Map: 100%|██████████| 2186/2186 [27:37<00:00,  1.32 examples/s] \n"
     ]
    }
   ],
   "source": [
    "zero_shot_results = {lang:0 for lang in test_languages}\n",
    "test_dataset.map(lambda row: process(zero_shot_results, row))\n",
    "zero_shot_accuracy = calc_accuracy(zero_shot_results, test_dataset)"
   ]
  },
  {
   "cell_type": "markdown",
   "id": "8a14d368",
   "metadata": {},
   "source": [
    "Dokładność dla zero-shot prompting"
   ]
  },
  {
   "cell_type": "code",
   "execution_count": 209,
   "id": "7e8808b3",
   "metadata": {},
   "outputs": [
    {
     "name": "stdout",
     "output_type": "stream",
     "text": [
      "Język      Dokładność\n",
      "----------------------\n",
      "en         0.91      \n",
      "es         0.92      \n",
      "zh         0.91      \n",
      "total      0.91      \n"
     ]
    }
   ],
   "source": [
    "print(f\"{'Język':<10} {'Dokładność':<10}\")\n",
    "print('-' * 22)\n",
    "for lang, acc in zero_shot_accuracy.items():\n",
    "    print(f\"{lang:<10} {acc:<10.2f}\")\n",
    "\n",
    "    "
   ]
  }
 ],
 "metadata": {
  "kernelspec": {
   "display_name": ".venv",
   "language": "python",
   "name": "python3"
  },
  "language_info": {
   "codemirror_mode": {
    "name": "ipython",
    "version": 3
   },
   "file_extension": ".py",
   "mimetype": "text/x-python",
   "name": "python",
   "nbconvert_exporter": "python",
   "pygments_lexer": "ipython3",
   "version": "3.12.8"
  }
 },
 "nbformat": 4,
 "nbformat_minor": 5
}
