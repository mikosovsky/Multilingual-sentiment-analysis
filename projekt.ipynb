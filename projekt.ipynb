{
 "cells": [
  {
   "cell_type": "markdown",
   "id": "46f6840d",
   "metadata": {},
   "source": [
    "**Temat:** Analiza sentymentu w tekstach internetowych w oparciu o sieci typu Transformer\n",
    "\n",
    "**Wprowadzenie:** Analiza sentymentu to technika przetwarzania języka naturalnego (NLP), która identyfikuje ton emocjonalny w tekście, klasyfikując go na pozytywny, negatywny lub neutralny. Wykorzystuje się ją do badania opinii klientów, monitorowania reputacji marki czy analizy treści mediów społecznościowych.\n",
    "\n",
    "**Cel projektu:** Celem projektu jest opracowanie i implementacja modelu analizy sentymentu, który pozwoli na klasyfikację opinii użytkowników na podstawie tekstów pochodzących z Internetu. Należy przeanalizować dane tekstowe, przygotować odpowiedni model oraz zaprezentować wyniki analizy."
   ]
  },
  {
   "cell_type": "code",
   "execution_count": 41,
   "id": "ab0fbe26",
   "metadata": {},
   "outputs": [
    {
     "name": "stdout",
     "output_type": "stream",
     "text": [
      "Note: you may need to restart the kernel to use updated packages.\n"
     ]
    }
   ],
   "source": [
    "%pip install datasets transformers torch langdetect scikit-learn --quiet"
   ]
  },
  {
   "cell_type": "markdown",
   "id": "ddd654a6",
   "metadata": {},
   "source": [
    "### Ładowanie danych"
   ]
  },
  {
   "cell_type": "code",
   "execution_count": null,
   "id": "c20d6e4d",
   "metadata": {},
   "outputs": [
    {
     "name": "stderr",
     "output_type": "stream",
     "text": [
      "Saving the dataset (3/3 shards): 100%|██████████| 3147478/3147478 [00:02<00:00, 1158612.77 examples/s]\n",
      "Saving the dataset (1/1 shards): 100%|██████████| 393435/393435 [00:00<00:00, 1250675.28 examples/s]\n",
      "Saving the dataset (1/1 shards): 100%|██████████| 393436/393436 [00:00<00:00, 1251788.48 examples/s]\n"
     ]
    }
   ],
   "source": [
    "from datasets import load_dataset\n",
    "\n",
    "ds = load_dataset(\"clapAI/MultiLingualSentiment\")"
   ]
  },
  {
   "cell_type": "code",
   "execution_count": 2,
   "id": "a8000292",
   "metadata": {},
   "outputs": [
    {
     "name": "stdout",
     "output_type": "stream",
     "text": [
      "DatasetDict({\n",
      "    train: Dataset({\n",
      "        features: ['text', 'label', 'source', 'domain', 'language'],\n",
      "        num_rows: 3147478\n",
      "    })\n",
      "    validation: Dataset({\n",
      "        features: ['text', 'label', 'source', 'domain', 'language'],\n",
      "        num_rows: 393435\n",
      "    })\n",
      "    test: Dataset({\n",
      "        features: ['text', 'label', 'source', 'domain', 'language'],\n",
      "        num_rows: 393436\n",
      "    })\n",
      "})\n"
     ]
    }
   ],
   "source": [
    "print(ds)"
   ]
  },
  {
   "cell_type": "code",
   "execution_count": null,
   "id": "324912c6",
   "metadata": {},
   "outputs": [
    {
     "name": "stderr",
     "output_type": "stream",
     "text": [
      "Filter (num_proc=4): 100%|██████████| 3147478/3147478 [00:01<00:00, 1593933.63 examples/s]\n",
      "Filter (num_proc=4): 100%|██████████| 393435/393435 [00:00<00:00, 970828.42 examples/s]\n",
      "Filter (num_proc=4): 100%|██████████| 393436/393436 [00:00<00:00, 937174.09 examples/s]\n",
      "Filter (num_proc=4): 100%|██████████| 3147478/3147478 [00:01<00:00, 1672955.12 examples/s]\n",
      "Filter (num_proc=4): 100%|██████████| 393435/393435 [00:00<00:00, 1042327.62 examples/s]\n",
      "Filter (num_proc=4): 100%|██████████| 393436/393436 [00:00<00:00, 1036326.39 examples/s]\n",
      "Filter (num_proc=4): 100%|██████████| 3147478/3147478 [00:01<00:00, 1653757.68 examples/s]\n",
      "Filter (num_proc=4): 100%|██████████| 393435/393435 [00:00<00:00, 1069735.66 examples/s]\n",
      "Filter (num_proc=4): 100%|██████████| 393436/393436 [00:00<00:00, 1031221.27 examples/s]\n",
      "Filter (num_proc=4): 100%|██████████| 3147478/3147478 [00:01<00:00, 1677637.81 examples/s]\n",
      "Filter (num_proc=4): 100%|██████████| 393435/393435 [00:00<00:00, 1081991.97 examples/s]\n",
      "Filter (num_proc=4): 100%|██████████| 393436/393436 [00:00<00:00, 1099425.36 examples/s]\n",
      "Filter (num_proc=4): 100%|██████████| 3147478/3147478 [00:01<00:00, 1850995.00 examples/s]\n",
      "Filter (num_proc=4): 100%|██████████| 393435/393435 [00:00<00:00, 1092647.37 examples/s]\n",
      "Filter (num_proc=4): 100%|██████████| 393436/393436 [00:00<00:00, 1123708.18 examples/s]\n",
      "Filter (num_proc=4): 100%|██████████| 3147478/3147478 [00:01<00:00, 1749514.27 examples/s]\n",
      "Filter (num_proc=4): 100%|██████████| 393435/393435 [00:00<00:00, 1108710.59 examples/s]\n",
      "Filter (num_proc=4): 100%|██████████| 393436/393436 [00:00<00:00, 1127559.56 examples/s]\n",
      "Filter (num_proc=4): 100%|██████████| 3147478/3147478 [00:01<00:00, 1777751.98 examples/s]\n",
      "Filter (num_proc=4): 100%|██████████| 393435/393435 [00:00<00:00, 1107624.83 examples/s]\n",
      "Filter (num_proc=4): 100%|██████████| 393436/393436 [00:00<00:00, 1116856.56 examples/s]\n",
      "Filter (num_proc=4): 100%|██████████| 3147478/3147478 [00:01<00:00, 1728401.60 examples/s]\n",
      "Filter (num_proc=4): 100%|██████████| 393435/393435 [00:00<00:00, 1105853.05 examples/s]\n",
      "Filter (num_proc=4): 100%|██████████| 393436/393436 [00:00<00:00, 1107045.09 examples/s]\n",
      "Filter (num_proc=4): 100%|██████████| 3147478/3147478 [00:01<00:00, 1724883.62 examples/s]\n",
      "Filter (num_proc=4): 100%|██████████| 393435/393435 [00:00<00:00, 1014361.12 examples/s]\n",
      "Filter (num_proc=4): 100%|██████████| 393436/393436 [00:00<00:00, 1103557.38 examples/s]\n",
      "Filter (num_proc=4): 100%|██████████| 3147478/3147478 [00:01<00:00, 1707799.26 examples/s]\n",
      "Filter (num_proc=4): 100%|██████████| 393435/393435 [00:00<00:00, 1091592.83 examples/s]\n",
      "Filter (num_proc=4): 100%|██████████| 393436/393436 [00:00<00:00, 1126203.66 examples/s]\n",
      "Filter (num_proc=4): 100%|██████████| 3147478/3147478 [00:01<00:00, 1735531.21 examples/s]\n",
      "Filter (num_proc=4): 100%|██████████| 393435/393435 [00:00<00:00, 1025299.04 examples/s]\n",
      "Filter (num_proc=4): 100%|██████████| 393436/393436 [00:00<00:00, 1095591.77 examples/s]\n",
      "Filter (num_proc=4): 100%|██████████| 3147478/3147478 [00:01<00:00, 1597074.05 examples/s]\n",
      "Filter (num_proc=4): 100%|██████████| 393435/393435 [00:00<00:00, 1074400.69 examples/s]\n",
      "Filter (num_proc=4): 100%|██████████| 393436/393436 [00:00<00:00, 1048717.94 examples/s]\n",
      "Filter (num_proc=4): 100%|██████████| 3147478/3147478 [00:01<00:00, 1605179.72 examples/s]\n",
      "Filter (num_proc=4): 100%|██████████| 393435/393435 [00:00<00:00, 1148668.25 examples/s]\n",
      "Filter (num_proc=4): 100%|██████████| 393436/393436 [00:00<00:00, 1132073.14 examples/s]\n",
      "Filter (num_proc=4): 100%|██████████| 3147478/3147478 [00:01<00:00, 1693722.29 examples/s]\n",
      "Filter (num_proc=4): 100%|██████████| 393435/393435 [00:00<00:00, 1056399.62 examples/s]\n",
      "Filter (num_proc=4): 100%|██████████| 393436/393436 [00:00<00:00, 1092783.29 examples/s]\n",
      "Filter (num_proc=4): 100%|██████████| 3147478/3147478 [00:01<00:00, 1642337.65 examples/s]\n",
      "Filter (num_proc=4): 100%|██████████| 393435/393435 [00:00<00:00, 1048639.30 examples/s]\n",
      "Filter (num_proc=4): 100%|██████████| 393436/393436 [00:00<00:00, 1071171.60 examples/s]\n",
      "Filter (num_proc=4): 100%|██████████| 3147478/3147478 [00:01<00:00, 1637678.81 examples/s]\n",
      "Filter (num_proc=4): 100%|██████████| 393435/393435 [00:00<00:00, 1009359.06 examples/s]\n",
      "Filter (num_proc=4): 100%|██████████| 393436/393436 [00:00<00:00, 1106649.38 examples/s]\n",
      "Filter (num_proc=4): 100%|██████████| 3147478/3147478 [00:01<00:00, 1680905.81 examples/s]\n",
      "Filter (num_proc=4): 100%|██████████| 393435/393435 [00:00<00:00, 1120064.88 examples/s]\n",
      "Filter (num_proc=4): 100%|██████████| 393436/393436 [00:00<00:00, 1134966.48 examples/s]\n"
     ]
    }
   ],
   "source": [
    "languages = ds['train'].unique('language')\n",
    "ds_types = ['train', 'validation', 'test']\n",
    "drop_columns = ['source', 'domain']\n",
    "ds = ds.remove_columns(drop_columns)\n",
    "# Create dictionary to store datasets for each language\n",
    "datasets = {}\n",
    "\n",
    "# Split train, validation and test for each language\n",
    "for lang in languages:\n",
    "    datasets[lang] = {}\n",
    "    for ds_type in ds_types:\n",
    "        datasets[lang][ds_type] = ds[ds_type].filter(\n",
    "            lambda batch: [x == lang for x in batch['language']],\n",
    "            batched = True,\n",
    "            num_proc=4\n",
    "            )\n",
    "        \n",
    "        # Reduce dataset by 100 times\n",
    "        rows_counter = datasets[lang][ds_type].num_rows\n",
    "        new_num_rows = round(rows_counter*0.01)\n",
    "        datasets[lang][ds_type] = datasets[lang][ds_type].shuffle(seed=42)\n",
    "        datasets[lang][ds_type] = datasets[lang][ds_type].select(range(new_num_rows))"
   ]
  },
  {
   "cell_type": "markdown",
   "id": "80cef1cc",
   "metadata": {},
   "source": [
    "### Czyszczenie datasetów z błędnych języków"
   ]
  },
  {
   "cell_type": "code",
   "execution_count": null,
   "id": "5643e0af",
   "metadata": {},
   "outputs": [
    {
     "name": "stderr",
     "output_type": "stream",
     "text": [
      "Filter (num_proc=4): 100%|██████████| 10305/10305 [00:09<00:00, 1121.32 examples/s]\n",
      "Filter (num_proc=4): 100%|██████████| 10281/10281 [00:09<00:00, 1134.04 examples/s]\n",
      "Filter (num_proc=4): 100%|██████████| 10267/10267 [00:09<00:00, 1109.08 examples/s]\n",
      "Filter (num_proc=4): 100%|██████████| 10261/10261 [00:09<00:00, 1033.45 examples/s]\n",
      "Filter (num_proc=4): 100%|██████████| 10253/10253 [00:13<00:00, 756.87 examples/s]\n",
      "Filter (num_proc=4): 100%|██████████| 10250/10250 [00:16<00:00, 615.81 examples/s]\n",
      "Filter (num_proc=4): 100%|██████████| 10249/10249 [00:15<00:00, 640.84 examples/s]\n",
      "Filter (num_proc=4): 100%|██████████| 10243/10243 [00:12<00:00, 823.90 examples/s] \n",
      "Filter (num_proc=4): 100%|██████████| 10240/10240 [00:10<00:00, 940.95 examples/s]\n",
      "Filter (num_proc=4): 100%|██████████| 10236/10236 [00:10<00:00, 1001.95 examples/s]\n",
      "Filter (num_proc=4): 100%|██████████| 10234/10234 [00:10<00:00, 1010.62 examples/s]\n",
      "Filter (num_proc=4): 100%|██████████| 10232/10232 [00:10<00:00, 1010.85 examples/s]\n",
      "Filter (num_proc=4): 100%|██████████| 10226/10226 [00:10<00:00, 987.22 examples/s] \n",
      "Filter (num_proc=4): 100%|██████████| 10223/10223 [00:11<00:00, 876.70 examples/s] \n",
      "Filter (num_proc=4): 100%|██████████| 10222/10222 [00:12<00:00, 837.64 examples/s] \n",
      "Filter (num_proc=4): 100%|██████████| 10220/10220 [00:12<00:00, 835.62 examples/s]\n",
      "Filter (num_proc=4): 100%|██████████| 10218/10218 [00:11<00:00, 872.29 examples/s] \n",
      "Filter (num_proc=4): 100%|██████████| 1305/1305 [00:02<00:00, 542.24 examples/s]\n",
      "Filter (num_proc=4): 100%|██████████| 1304/1304 [00:02<00:00, 619.55 examples/s]\n",
      "Filter (num_proc=4): 100%|██████████| 1301/1301 [00:02<00:00, 604.05 examples/s]\n",
      "Filter (num_proc=4): 100%|██████████| 1299/1299 [00:02<00:00, 640.42 examples/s]\n",
      "Filter (num_proc=4): 100%|██████████| 1299/1299 [00:02<00:00, 614.30 examples/s]\n",
      "Filter (num_proc=4): 100%|██████████| 1299/1299 [00:02<00:00, 616.28 examples/s]\n",
      "Filter (num_proc=4): 100%|██████████| 1299/1299 [00:01<00:00, 649.82 examples/s]\n",
      "Filter (num_proc=4): 100%|██████████| 1297/1297 [00:02<00:00, 629.19 examples/s]\n",
      "Filter (num_proc=4): 100%|██████████| 1296/1296 [00:02<00:00, 647.97 examples/s]\n",
      "Filter (num_proc=4): 100%|██████████| 1296/1296 [00:02<00:00, 604.66 examples/s]\n",
      "Filter (num_proc=4): 100%|██████████| 1296/1296 [00:01<00:00, 680.51 examples/s]\n",
      "Filter (num_proc=4): 100%|██████████| 1296/1296 [00:01<00:00, 668.70 examples/s]\n",
      "Filter (num_proc=4): 100%|██████████| 1295/1295 [00:01<00:00, 681.20 examples/s]\n",
      "Filter (num_proc=4): 100%|██████████| 1295/1295 [00:01<00:00, 695.15 examples/s]\n",
      "Filter (num_proc=4): 100%|██████████| 1295/1295 [00:01<00:00, 647.68 examples/s]\n",
      "Filter (num_proc=4): 100%|██████████| 1294/1294 [00:01<00:00, 701.95 examples/s]\n",
      "Filter (num_proc=4): 100%|██████████| 1294/1294 [00:01<00:00, 690.54 examples/s]\n",
      "Filter (num_proc=4): 100%|██████████| 1281/1281 [00:01<00:00, 696.17 examples/s]\n",
      "Filter (num_proc=4): 100%|██████████| 1278/1278 [00:01<00:00, 696.59 examples/s]\n",
      "Filter (num_proc=4): 100%|██████████| 1278/1278 [00:02<00:00, 623.94 examples/s]\n",
      "Filter (num_proc=4): 100%|██████████| 1277/1277 [00:01<00:00, 709.16 examples/s]\n",
      "Filter (num_proc=4): 100%|██████████| 1276/1276 [00:01<00:00, 678.53 examples/s]\n",
      "Filter (num_proc=4): 100%|██████████| 1276/1276 [00:01<00:00, 692.03 examples/s]\n",
      "Filter (num_proc=4): 100%|██████████| 1275/1275 [00:01<00:00, 694.85 examples/s]\n",
      "Filter (num_proc=4): 100%|██████████| 1275/1275 [00:01<00:00, 639.83 examples/s]\n",
      "Filter (num_proc=4): 100%|██████████| 1275/1275 [00:01<00:00, 654.71 examples/s]\n",
      "Filter (num_proc=4): 100%|██████████| 1275/1275 [00:01<00:00, 649.86 examples/s]\n",
      "Filter (num_proc=4): 100%|██████████| 1275/1275 [00:01<00:00, 641.57 examples/s]\n",
      "Filter (num_proc=4): 100%|██████████| 1275/1275 [00:01<00:00, 648.93 examples/s]\n",
      "Filter (num_proc=4): 100%|██████████| 1275/1275 [00:02<00:00, 606.81 examples/s]\n",
      "Filter (num_proc=4): 100%|██████████| 1275/1275 [00:01<00:00, 676.24 examples/s]\n",
      "Filter (num_proc=4): 100%|██████████| 1275/1275 [00:01<00:00, 663.90 examples/s]\n",
      "Filter (num_proc=4): 100%|██████████| 1275/1275 [00:01<00:00, 671.34 examples/s]\n",
      "Filter (num_proc=4): 100%|██████████| 1275/1275 [00:01<00:00, 661.27 examples/s]\n"
     ]
    }
   ],
   "source": [
    "from langdetect import detect\n",
    "\n",
    "def detect_language(text):\n",
    "    try:\n",
    "        return detect(text)\n",
    "    except:\n",
    "        return \"unknown\"\n",
    "    \n",
    "for ds_type in ds_types:\n",
    "        for lang in languages:\n",
    "            datasets['en'][ds_type] = datasets['en'][ds_type].filter(\n",
    "                lambda batch: [detect_language(x) == 'en' for x in batch['text']],\n",
    "                batched=True,\n",
    "                num_proc=4\n",
    "            )"
   ]
  },
  {
   "cell_type": "code",
   "execution_count": 26,
   "id": "9718600a",
   "metadata": {},
   "outputs": [
    {
     "data": {
      "text/plain": [
       "{'text': 'Not allowed to withdraw my funds, and was told I can only cash out if I deactivate or close the account. Well if u say so.',\n",
       " 'label': 'negative',\n",
       " 'language': 'en'}"
      ]
     },
     "execution_count": 26,
     "metadata": {},
     "output_type": "execute_result"
    }
   ],
   "source": [
    "datasets['en']['train'][0]"
   ]
  },
  {
   "cell_type": "markdown",
   "id": "a54002a2",
   "metadata": {},
   "source": [
    "### Tokenizacja"
   ]
  },
  {
   "cell_type": "code",
   "execution_count": null,
   "id": "a6e27486",
   "metadata": {},
   "outputs": [
    {
     "name": "stderr",
     "output_type": "stream",
     "text": [
      "Map (num_proc=4): 100%|██████████| 15560/15560 [00:01<00:00, 8382.52 examples/s] \n",
      "Map (num_proc=4): 100%|██████████| 1959/1959 [00:00<00:00, 6640.81 examples/s]\n",
      "Map (num_proc=4): 100%|██████████| 1942/1942 [00:00<00:00, 6541.98 examples/s]\n"
     ]
    }
   ],
   "source": [
    "from datasets import concatenate_datasets\n",
    "\n",
    "languages_to_process = ['en', 'es', 'zh']\n",
    "labels_id = {'negative': 0, 'neutral': 1, 'positive': 2}\n",
    "\n",
    "# Convert labels to IDs\n",
    "def convert_labels_to_ids(batch):\n",
    "    batch['label_id'] = [labels_id[label] for label in batch['label']]\n",
    "    return batch\n",
    "\n",
    "# train ds\n",
    "train_ds_list = [datasets[lang]['train'] for lang in languages_to_process]\n",
    "# Concatenate datasets for selected languages\n",
    "train_ds = concatenate_datasets(train_ds_list)\n",
    "train_ds = train_ds.map(convert_labels_to_ids, batched=True, num_proc=4)\n",
    "train_ds = train_ds.shuffle(seed=42)\n",
    "\n",
    "# eval ds\n",
    "eval_ds_list = [datasets[lang]['validation'] for lang in languages_to_process]\n",
    "# Concatenate datasets for selected languages\n",
    "eval_ds = concatenate_datasets(eval_ds_list)\n",
    "eval_ds = eval_ds.map(convert_labels_to_ids, batched=True, num_proc=4)\n",
    "eval_ds = eval_ds.shuffle(seed=42)\n",
    "\n",
    "# test ds\n",
    "test_ds_list = [datasets[lang]['test'] for lang in languages_to_process]\n",
    "# Concatenate datasets for selected languages\n",
    "test_ds = concatenate_datasets(test_ds_list)\n",
    "test_ds = test_ds.map(convert_labels_to_ids, batched=True, num_proc=4)\n",
    "test_ds = test_ds.shuffle(seed=42)"
   ]
  },
  {
   "cell_type": "code",
   "execution_count": 32,
   "id": "c1a08ae2",
   "metadata": {},
   "outputs": [
    {
     "name": "stdout",
     "output_type": "stream",
     "text": [
      "{'text': '很实用，点赞。。。:)', 'label': 'positive', 'language': 'zh', 'label_id': 2}\n"
     ]
    }
   ],
   "source": [
    "print(train_ds[0])"
   ]
  },
  {
   "cell_type": "code",
   "execution_count": 38,
   "id": "ec9c9216",
   "metadata": {},
   "outputs": [
    {
     "name": "stderr",
     "output_type": "stream",
     "text": [
      "Some weights of BertForSequenceClassification were not initialized from the model checkpoint at bert-base-multilingual-cased and are newly initialized: ['classifier.bias', 'classifier.weight']\n",
      "You should probably TRAIN this model on a down-stream task to be able to use it for predictions and inference.\n"
     ]
    }
   ],
   "source": [
    "from transformers import BertTokenizer, BertForSequenceClassification\n",
    "\n",
    "tokenizer = BertTokenizer.from_pretrained(\"bert-base-multilingual-cased\")\n",
    "model = BertForSequenceClassification.from_pretrained(\"bert-base-multilingual-cased\", num_labels=3)\n",
    "\n",
    "def tokenize_and_encode(examples):\n",
    "    return tokenizer(\n",
    "        examples['text'],\n",
    "        padding='max_length',\n",
    "        truncation=True,\n",
    "        max_length=128,  # BERT max sequence length\n",
    "        # return_tensors=None,  # Returns PyTorch tensors\n",
    "        # return_special_tokens_mask=True\n",
    "    )\n",
    "\n",
    "\n",
    "\n",
    "tokenized_train_ds = train_ds.map(\n",
    "    tokenize_and_encode,\n",
    "    batched=True,\n",
    "    batch_size=1000,  # Increased batch size\n",
    "    num_proc=4,       # Use multiple CPU cores\n",
    "    remove_columns=['text', 'language', 'label']  # Remove original columns we don't need\n",
    ")\n",
    "tokenized_train_ds = tokenized_train_ds.rename_column(\"label_id\", \"label\")\n",
    "tokenized_eval_ds = eval_ds.map(\n",
    "    tokenize_and_encode,\n",
    "    batched=True,\n",
    "    batch_size=1000,  # Increased batch size\n",
    "    num_proc=4,       # Use multiple CPU cores\n",
    "    remove_columns=['text', 'language', 'label']  # Remove original columns we don't need\n",
    ")\n",
    "tokenized_eval_ds = tokenized_eval_ds.rename_column(\"label_id\", \"label\")"
   ]
  },
  {
   "cell_type": "code",
   "execution_count": 52,
   "id": "6b9f2a9e",
   "metadata": {},
   "outputs": [
    {
     "name": "stdout",
     "output_type": "stream",
     "text": [
      "15560\n"
     ]
    }
   ],
   "source": [
    "print(tokenized_train_ds.num_rows)"
   ]
  },
  {
   "cell_type": "code",
   "execution_count": 53,
   "id": "905eb306",
   "metadata": {},
   "outputs": [
    {
     "name": "stderr",
     "output_type": "stream",
     "text": [
      "Creating CSV from Arrow format: 100%|██████████| 2/2 [00:00<00:00, 30.72ba/s]\n"
     ]
    },
    {
     "data": {
      "text/plain": [
       "782201"
      ]
     },
     "execution_count": 53,
     "metadata": {},
     "output_type": "execute_result"
    }
   ],
   "source": [
    "test_ds.to_csv(\"test_ds.csv\", index=False)"
   ]
  },
  {
   "cell_type": "code",
   "execution_count": 39,
   "id": "ceee1ef8",
   "metadata": {},
   "outputs": [
    {
     "name": "stdout",
     "output_type": "stream",
     "text": [
      "{'label': 2, 'input_ids': [101, 3767, 3392, 5605, 10064, 5286, 7520, 1882, 1882, 1882, 131, 114, 102, 0, 0, 0, 0, 0, 0, 0, 0, 0, 0, 0, 0, 0, 0, 0, 0, 0, 0, 0, 0, 0, 0, 0, 0, 0, 0, 0, 0, 0, 0, 0, 0, 0, 0, 0, 0, 0, 0, 0, 0, 0, 0, 0, 0, 0, 0, 0, 0, 0, 0, 0, 0, 0, 0, 0, 0, 0, 0, 0, 0, 0, 0, 0, 0, 0, 0, 0, 0, 0, 0, 0, 0, 0, 0, 0, 0, 0, 0, 0, 0, 0, 0, 0, 0, 0, 0, 0, 0, 0, 0, 0, 0, 0, 0, 0, 0, 0, 0, 0, 0, 0, 0, 0, 0, 0, 0, 0, 0, 0, 0, 0, 0, 0, 0, 0], 'token_type_ids': [0, 0, 0, 0, 0, 0, 0, 0, 0, 0, 0, 0, 0, 0, 0, 0, 0, 0, 0, 0, 0, 0, 0, 0, 0, 0, 0, 0, 0, 0, 0, 0, 0, 0, 0, 0, 0, 0, 0, 0, 0, 0, 0, 0, 0, 0, 0, 0, 0, 0, 0, 0, 0, 0, 0, 0, 0, 0, 0, 0, 0, 0, 0, 0, 0, 0, 0, 0, 0, 0, 0, 0, 0, 0, 0, 0, 0, 0, 0, 0, 0, 0, 0, 0, 0, 0, 0, 0, 0, 0, 0, 0, 0, 0, 0, 0, 0, 0, 0, 0, 0, 0, 0, 0, 0, 0, 0, 0, 0, 0, 0, 0, 0, 0, 0, 0, 0, 0, 0, 0, 0, 0, 0, 0, 0, 0, 0, 0], 'attention_mask': [1, 1, 1, 1, 1, 1, 1, 1, 1, 1, 1, 1, 1, 0, 0, 0, 0, 0, 0, 0, 0, 0, 0, 0, 0, 0, 0, 0, 0, 0, 0, 0, 0, 0, 0, 0, 0, 0, 0, 0, 0, 0, 0, 0, 0, 0, 0, 0, 0, 0, 0, 0, 0, 0, 0, 0, 0, 0, 0, 0, 0, 0, 0, 0, 0, 0, 0, 0, 0, 0, 0, 0, 0, 0, 0, 0, 0, 0, 0, 0, 0, 0, 0, 0, 0, 0, 0, 0, 0, 0, 0, 0, 0, 0, 0, 0, 0, 0, 0, 0, 0, 0, 0, 0, 0, 0, 0, 0, 0, 0, 0, 0, 0, 0, 0, 0, 0, 0, 0, 0, 0, 0, 0, 0, 0, 0, 0, 0]}\n"
     ]
    }
   ],
   "source": [
    "print(tokenized_train_ds[0])"
   ]
  },
  {
   "cell_type": "code",
   "execution_count": 48,
   "id": "98e45467",
   "metadata": {},
   "outputs": [
    {
     "name": "stderr",
     "output_type": "stream",
     "text": [
      "/var/folders/g3/sxyl_n7x6d51bbb320nhxx5c0000gn/T/ipykernel_34965/1482221042.py:29: FutureWarning: `tokenizer` is deprecated and will be removed in version 5.0.0 for `Trainer.__init__`. Use `processing_class` instead.\n",
      "  trainer = Trainer(\n"
     ]
    },
    {
     "data": {
      "text/html": [
       "\n",
       "    <div>\n",
       "      \n",
       "      <progress value='9' max='5835' style='width:300px; height:20px; vertical-align: middle;'></progress>\n",
       "      [   9/5835 00:29 < 6:49:41, 0.24 it/s, Epoch 0.00/3]\n",
       "    </div>\n",
       "    <table border=\"1\" class=\"dataframe\">\n",
       "  <thead>\n",
       " <tr style=\"text-align: left;\">\n",
       "      <th>Epoch</th>\n",
       "      <th>Training Loss</th>\n",
       "      <th>Validation Loss</th>\n",
       "    </tr>\n",
       "  </thead>\n",
       "  <tbody>\n",
       "  </tbody>\n",
       "</table><p>"
      ],
      "text/plain": [
       "<IPython.core.display.HTML object>"
      ]
     },
     "metadata": {},
     "output_type": "display_data"
    },
    {
     "ename": "KeyboardInterrupt",
     "evalue": "",
     "output_type": "error",
     "traceback": [
      "\u001b[31m---------------------------------------------------------------------------\u001b[39m",
      "\u001b[31mKeyboardInterrupt\u001b[39m                         Traceback (most recent call last)",
      "\u001b[36mCell\u001b[39m\u001b[36m \u001b[39m\u001b[32mIn[48]\u001b[39m\u001b[32m, line 37\u001b[39m\n\u001b[32m     16\u001b[39m training_args = TrainingArguments(\n\u001b[32m     17\u001b[39m     output_dir=\u001b[33m\"\u001b[39m\u001b[33m./multilingual_bert_sentiment\u001b[39m\u001b[33m\"\u001b[39m,\n\u001b[32m     18\u001b[39m     overwrite_output_dir=\u001b[38;5;28;01mTrue\u001b[39;00m,\n\u001b[32m   (...)\u001b[39m\u001b[32m     26\u001b[39m     logging_steps=\u001b[32m10\u001b[39m,\n\u001b[32m     27\u001b[39m )\n\u001b[32m     29\u001b[39m trainer = Trainer(\n\u001b[32m     30\u001b[39m     model=model,\n\u001b[32m     31\u001b[39m     args=training_args,\n\u001b[32m   (...)\u001b[39m\u001b[32m     35\u001b[39m     compute_metrics=compute_metrics\n\u001b[32m     36\u001b[39m )\n\u001b[32m---> \u001b[39m\u001b[32m37\u001b[39m \u001b[43mtrainer\u001b[49m\u001b[43m.\u001b[49m\u001b[43mtrain\u001b[49m\u001b[43m(\u001b[49m\u001b[43m)\u001b[49m\n\u001b[32m     38\u001b[39m trainer.save_model(\u001b[33m\"\u001b[39m\u001b[33m./multilingual_bert_sentiment\u001b[39m\u001b[33m\"\u001b[39m)\n\u001b[32m     39\u001b[39m trainer.evaluate()\n",
      "\u001b[36mFile \u001b[39m\u001b[32m~/Desktop/STUDIA/CDV STOPIEŃ II/I ROK/II SEMESTR/Uczenie głebokie w przetwarzaniu języka/PROJEKT/Multilingual-sentiment-analysis/.venv/lib/python3.12/site-packages/transformers/trainer.py:2240\u001b[39m, in \u001b[36mTrainer.train\u001b[39m\u001b[34m(self, resume_from_checkpoint, trial, ignore_keys_for_eval, **kwargs)\u001b[39m\n\u001b[32m   2238\u001b[39m         hf_hub_utils.enable_progress_bars()\n\u001b[32m   2239\u001b[39m \u001b[38;5;28;01melse\u001b[39;00m:\n\u001b[32m-> \u001b[39m\u001b[32m2240\u001b[39m     \u001b[38;5;28;01mreturn\u001b[39;00m \u001b[43minner_training_loop\u001b[49m\u001b[43m(\u001b[49m\n\u001b[32m   2241\u001b[39m \u001b[43m        \u001b[49m\u001b[43margs\u001b[49m\u001b[43m=\u001b[49m\u001b[43margs\u001b[49m\u001b[43m,\u001b[49m\n\u001b[32m   2242\u001b[39m \u001b[43m        \u001b[49m\u001b[43mresume_from_checkpoint\u001b[49m\u001b[43m=\u001b[49m\u001b[43mresume_from_checkpoint\u001b[49m\u001b[43m,\u001b[49m\n\u001b[32m   2243\u001b[39m \u001b[43m        \u001b[49m\u001b[43mtrial\u001b[49m\u001b[43m=\u001b[49m\u001b[43mtrial\u001b[49m\u001b[43m,\u001b[49m\n\u001b[32m   2244\u001b[39m \u001b[43m        \u001b[49m\u001b[43mignore_keys_for_eval\u001b[49m\u001b[43m=\u001b[49m\u001b[43mignore_keys_for_eval\u001b[49m\u001b[43m,\u001b[49m\n\u001b[32m   2245\u001b[39m \u001b[43m    \u001b[49m\u001b[43m)\u001b[49m\n",
      "\u001b[36mFile \u001b[39m\u001b[32m~/Desktop/STUDIA/CDV STOPIEŃ II/I ROK/II SEMESTR/Uczenie głebokie w przetwarzaniu języka/PROJEKT/Multilingual-sentiment-analysis/.venv/lib/python3.12/site-packages/transformers/trainer.py:2555\u001b[39m, in \u001b[36mTrainer._inner_training_loop\u001b[39m\u001b[34m(self, batch_size, args, resume_from_checkpoint, trial, ignore_keys_for_eval)\u001b[39m\n\u001b[32m   2548\u001b[39m context = (\n\u001b[32m   2549\u001b[39m     functools.partial(\u001b[38;5;28mself\u001b[39m.accelerator.no_sync, model=model)\n\u001b[32m   2550\u001b[39m     \u001b[38;5;28;01mif\u001b[39;00m i != \u001b[38;5;28mlen\u001b[39m(batch_samples) - \u001b[32m1\u001b[39m\n\u001b[32m   2551\u001b[39m     \u001b[38;5;129;01mand\u001b[39;00m \u001b[38;5;28mself\u001b[39m.accelerator.distributed_type != DistributedType.DEEPSPEED\n\u001b[32m   2552\u001b[39m     \u001b[38;5;28;01melse\u001b[39;00m contextlib.nullcontext\n\u001b[32m   2553\u001b[39m )\n\u001b[32m   2554\u001b[39m \u001b[38;5;28;01mwith\u001b[39;00m context():\n\u001b[32m-> \u001b[39m\u001b[32m2555\u001b[39m     tr_loss_step = \u001b[38;5;28;43mself\u001b[39;49m\u001b[43m.\u001b[49m\u001b[43mtraining_step\u001b[49m\u001b[43m(\u001b[49m\u001b[43mmodel\u001b[49m\u001b[43m,\u001b[49m\u001b[43m \u001b[49m\u001b[43minputs\u001b[49m\u001b[43m,\u001b[49m\u001b[43m \u001b[49m\u001b[43mnum_items_in_batch\u001b[49m\u001b[43m)\u001b[49m\n\u001b[32m   2557\u001b[39m \u001b[38;5;28;01mif\u001b[39;00m (\n\u001b[32m   2558\u001b[39m     args.logging_nan_inf_filter\n\u001b[32m   2559\u001b[39m     \u001b[38;5;129;01mand\u001b[39;00m \u001b[38;5;129;01mnot\u001b[39;00m is_torch_xla_available()\n\u001b[32m   2560\u001b[39m     \u001b[38;5;129;01mand\u001b[39;00m (torch.isnan(tr_loss_step) \u001b[38;5;129;01mor\u001b[39;00m torch.isinf(tr_loss_step))\n\u001b[32m   2561\u001b[39m ):\n\u001b[32m   2562\u001b[39m     \u001b[38;5;66;03m# if loss is nan or inf simply add the average of previous logged losses\u001b[39;00m\n\u001b[32m   2563\u001b[39m     tr_loss = tr_loss + tr_loss / (\u001b[32m1\u001b[39m + \u001b[38;5;28mself\u001b[39m.state.global_step - \u001b[38;5;28mself\u001b[39m._globalstep_last_logged)\n",
      "\u001b[36mFile \u001b[39m\u001b[32m~/Desktop/STUDIA/CDV STOPIEŃ II/I ROK/II SEMESTR/Uczenie głebokie w przetwarzaniu języka/PROJEKT/Multilingual-sentiment-analysis/.venv/lib/python3.12/site-packages/transformers/trainer.py:3791\u001b[39m, in \u001b[36mTrainer.training_step\u001b[39m\u001b[34m(***failed resolving arguments***)\u001b[39m\n\u001b[32m   3788\u001b[39m \u001b[38;5;28;01mif\u001b[39;00m \u001b[38;5;28mself\u001b[39m.accelerator.distributed_type == DistributedType.DEEPSPEED:\n\u001b[32m   3789\u001b[39m     kwargs[\u001b[33m\"\u001b[39m\u001b[33mscale_wrt_gas\u001b[39m\u001b[33m\"\u001b[39m] = \u001b[38;5;28;01mFalse\u001b[39;00m\n\u001b[32m-> \u001b[39m\u001b[32m3791\u001b[39m \u001b[38;5;28;43mself\u001b[39;49m\u001b[43m.\u001b[49m\u001b[43maccelerator\u001b[49m\u001b[43m.\u001b[49m\u001b[43mbackward\u001b[49m\u001b[43m(\u001b[49m\u001b[43mloss\u001b[49m\u001b[43m,\u001b[49m\u001b[43m \u001b[49m\u001b[43m*\u001b[49m\u001b[43m*\u001b[49m\u001b[43mkwargs\u001b[49m\u001b[43m)\u001b[49m\n\u001b[32m   3793\u001b[39m \u001b[38;5;28;01mreturn\u001b[39;00m loss.detach()\n",
      "\u001b[36mFile \u001b[39m\u001b[32m~/Desktop/STUDIA/CDV STOPIEŃ II/I ROK/II SEMESTR/Uczenie głebokie w przetwarzaniu języka/PROJEKT/Multilingual-sentiment-analysis/.venv/lib/python3.12/site-packages/accelerate/accelerator.py:2473\u001b[39m, in \u001b[36mAccelerator.backward\u001b[39m\u001b[34m(self, loss, **kwargs)\u001b[39m\n\u001b[32m   2471\u001b[39m     \u001b[38;5;28mself\u001b[39m.lomo_backward(loss, learning_rate)\n\u001b[32m   2472\u001b[39m \u001b[38;5;28;01melse\u001b[39;00m:\n\u001b[32m-> \u001b[39m\u001b[32m2473\u001b[39m     \u001b[43mloss\u001b[49m\u001b[43m.\u001b[49m\u001b[43mbackward\u001b[49m\u001b[43m(\u001b[49m\u001b[43m*\u001b[49m\u001b[43m*\u001b[49m\u001b[43mkwargs\u001b[49m\u001b[43m)\u001b[49m\n",
      "\u001b[36mFile \u001b[39m\u001b[32m~/Desktop/STUDIA/CDV STOPIEŃ II/I ROK/II SEMESTR/Uczenie głebokie w przetwarzaniu języka/PROJEKT/Multilingual-sentiment-analysis/.venv/lib/python3.12/site-packages/torch/_tensor.py:522\u001b[39m, in \u001b[36mTensor.backward\u001b[39m\u001b[34m(self, gradient, retain_graph, create_graph, inputs)\u001b[39m\n\u001b[32m    512\u001b[39m \u001b[38;5;28;01mif\u001b[39;00m has_torch_function_unary(\u001b[38;5;28mself\u001b[39m):\n\u001b[32m    513\u001b[39m     \u001b[38;5;28;01mreturn\u001b[39;00m handle_torch_function(\n\u001b[32m    514\u001b[39m         Tensor.backward,\n\u001b[32m    515\u001b[39m         (\u001b[38;5;28mself\u001b[39m,),\n\u001b[32m   (...)\u001b[39m\u001b[32m    520\u001b[39m         inputs=inputs,\n\u001b[32m    521\u001b[39m     )\n\u001b[32m--> \u001b[39m\u001b[32m522\u001b[39m \u001b[43mtorch\u001b[49m\u001b[43m.\u001b[49m\u001b[43mautograd\u001b[49m\u001b[43m.\u001b[49m\u001b[43mbackward\u001b[49m\u001b[43m(\u001b[49m\n\u001b[32m    523\u001b[39m \u001b[43m    \u001b[49m\u001b[38;5;28;43mself\u001b[39;49m\u001b[43m,\u001b[49m\u001b[43m \u001b[49m\u001b[43mgradient\u001b[49m\u001b[43m,\u001b[49m\u001b[43m \u001b[49m\u001b[43mretain_graph\u001b[49m\u001b[43m,\u001b[49m\u001b[43m \u001b[49m\u001b[43mcreate_graph\u001b[49m\u001b[43m,\u001b[49m\u001b[43m \u001b[49m\u001b[43minputs\u001b[49m\u001b[43m=\u001b[49m\u001b[43minputs\u001b[49m\n\u001b[32m    524\u001b[39m \u001b[43m\u001b[49m\u001b[43m)\u001b[49m\n",
      "\u001b[36mFile \u001b[39m\u001b[32m~/Desktop/STUDIA/CDV STOPIEŃ II/I ROK/II SEMESTR/Uczenie głebokie w przetwarzaniu języka/PROJEKT/Multilingual-sentiment-analysis/.venv/lib/python3.12/site-packages/torch/autograd/__init__.py:266\u001b[39m, in \u001b[36mbackward\u001b[39m\u001b[34m(tensors, grad_tensors, retain_graph, create_graph, grad_variables, inputs)\u001b[39m\n\u001b[32m    261\u001b[39m     retain_graph = create_graph\n\u001b[32m    263\u001b[39m \u001b[38;5;66;03m# The reason we repeat the same comment below is that\u001b[39;00m\n\u001b[32m    264\u001b[39m \u001b[38;5;66;03m# some Python versions print out the first line of a multi-line function\u001b[39;00m\n\u001b[32m    265\u001b[39m \u001b[38;5;66;03m# calls in the traceback and some print out the last line\u001b[39;00m\n\u001b[32m--> \u001b[39m\u001b[32m266\u001b[39m \u001b[43mVariable\u001b[49m\u001b[43m.\u001b[49m\u001b[43m_execution_engine\u001b[49m\u001b[43m.\u001b[49m\u001b[43mrun_backward\u001b[49m\u001b[43m(\u001b[49m\u001b[43m  \u001b[49m\u001b[38;5;66;43;03m# Calls into the C++ engine to run the backward pass\u001b[39;49;00m\n\u001b[32m    267\u001b[39m \u001b[43m    \u001b[49m\u001b[43mtensors\u001b[49m\u001b[43m,\u001b[49m\n\u001b[32m    268\u001b[39m \u001b[43m    \u001b[49m\u001b[43mgrad_tensors_\u001b[49m\u001b[43m,\u001b[49m\n\u001b[32m    269\u001b[39m \u001b[43m    \u001b[49m\u001b[43mretain_graph\u001b[49m\u001b[43m,\u001b[49m\n\u001b[32m    270\u001b[39m \u001b[43m    \u001b[49m\u001b[43mcreate_graph\u001b[49m\u001b[43m,\u001b[49m\n\u001b[32m    271\u001b[39m \u001b[43m    \u001b[49m\u001b[43minputs\u001b[49m\u001b[43m,\u001b[49m\n\u001b[32m    272\u001b[39m \u001b[43m    \u001b[49m\u001b[43mallow_unreachable\u001b[49m\u001b[43m=\u001b[49m\u001b[38;5;28;43;01mTrue\u001b[39;49;00m\u001b[43m,\u001b[49m\n\u001b[32m    273\u001b[39m \u001b[43m    \u001b[49m\u001b[43maccumulate_grad\u001b[49m\u001b[43m=\u001b[49m\u001b[38;5;28;43;01mTrue\u001b[39;49;00m\u001b[43m,\u001b[49m\n\u001b[32m    274\u001b[39m \u001b[43m\u001b[49m\u001b[43m)\u001b[49m\n",
      "\u001b[31mKeyboardInterrupt\u001b[39m: "
     ]
    }
   ],
   "source": [
    "from transformers import TrainingArguments, Trainer\n",
    "from sklearn.metrics import accuracy_score, f1_score\n",
    "\n",
    "model.to('cpu')\n",
    "\n",
    "def compute_metrics(eval_pred):\n",
    "    logits, labels = eval_pred\n",
    "    predictions = logits.argmax(axis=1)\n",
    "    accuracy = accuracy_score(labels, predictions)\n",
    "    f1 = f1_score(labels, predictions, average='weighted')\n",
    "    return {\n",
    "        'accuracy': accuracy,\n",
    "        'f1': f1\n",
    "    }\n",
    "\n",
    "training_args = TrainingArguments(\n",
    "    output_dir=\"./multilingual_bert_sentiment\",\n",
    "    overwrite_output_dir=True,\n",
    "    eval_strategy=\"epoch\",\n",
    "    learning_rate=2e-5,\n",
    "    per_device_train_batch_size=8,\n",
    "    per_device_eval_batch_size=8,\n",
    "    num_train_epochs=3,\n",
    "    weight_decay=0.01,\n",
    "    logging_dir='./logs',\n",
    "    logging_steps=10,\n",
    ")\n",
    "\n",
    "trainer = Trainer(\n",
    "    model=model,\n",
    "    args=training_args,\n",
    "    train_dataset=tokenized_train_ds,\n",
    "    eval_dataset=tokenized_eval_ds,\n",
    "    tokenizer=tokenizer,\n",
    "    compute_metrics=compute_metrics\n",
    ")\n",
    "trainer.train()\n",
    "trainer.save_model(\"./multilingual_bert_sentiment\")\n",
    "trainer.evaluate()"
   ]
  }
 ],
 "metadata": {
  "kernelspec": {
   "display_name": ".venv",
   "language": "python",
   "name": "python3"
  },
  "language_info": {
   "codemirror_mode": {
    "name": "ipython",
    "version": 3
   },
   "file_extension": ".py",
   "mimetype": "text/x-python",
   "name": "python",
   "nbconvert_exporter": "python",
   "pygments_lexer": "ipython3",
   "version": "3.12.8"
  }
 },
 "nbformat": 4,
 "nbformat_minor": 5
}
