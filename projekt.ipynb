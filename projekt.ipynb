{
 "cells": [
  {
   "cell_type": "markdown",
   "id": "46f6840d",
   "metadata": {},
   "source": [
    "**Temat:** Analiza sentymentu w tekstach internetowych w oparciu o sieci typu Transformer\n",
    "\n",
    "**Wprowadzenie:** Analiza sentymentu to technika przetwarzania języka naturalnego (NLP), która identyfikuje ton emocjonalny w tekście, klasyfikując go na pozytywny, negatywny lub neutralny. Wykorzystuje się ją do badania opinii klientów, monitorowania reputacji marki czy analizy treści mediów społecznościowych.\n",
    "\n",
    "**Cel projektu:** Celem projektu jest opracowanie i implementacja modelu analizy sentymentu, który pozwoli na klasyfikację opinii użytkowników na podstawie tekstów pochodzących z Internetu. Należy przeanalizować dane tekstowe, przygotować odpowiedni model oraz zaprezentować wyniki analizy."
   ]
  },
  {
   "cell_type": "code",
   "execution_count": 35,
   "id": "ab0fbe26",
   "metadata": {},
   "outputs": [],
   "source": [
    "!pip3 install datasets transformers torch 'numpy<2' accelerate peft --quiet"
   ]
  },
  {
   "cell_type": "markdown",
   "id": "ddd654a6",
   "metadata": {},
   "source": [
    "### Ładowanie danych"
   ]
  },
  {
   "cell_type": "code",
   "execution_count": 3,
   "id": "c20d6e4d",
   "metadata": {},
   "outputs": [],
   "source": [
    "from datasets import load_dataset\n",
    "\n",
    "ds = load_dataset(\"clapAI/MultiLingualSentiment\")"
   ]
  },
  {
   "cell_type": "code",
   "execution_count": 4,
   "id": "324912c6",
   "metadata": {},
   "outputs": [
    {
     "name": "stdout",
     "output_type": "stream",
     "text": [
      "Available languages: ['en', 'es', 'ja', 'ar', 'tr', 'fr', 'vi', 'zh', 'de', 'ru', 'ko', 'id', 'multilingual', 'pt', 'ms', 'hi', 'it']\n"
     ]
    }
   ],
   "source": [
    "# what languages are available\n",
    "languages = ds['train'].unique('language')\n",
    "print(\"Available languages:\", languages)\n",
    "ds_types = ['train', 'validation', 'test']\n",
    "# Create dictionary to store datasets for each language\n",
    "datasets_by_language = {}\n",
    "\n",
    "# # Split train, validation and test for each language\n",
    "for lang in languages:\n",
    "    datasets_by_language[lang] = {}\n",
    "    for ds_type in ds_types:\n",
    "        datasets_by_language[lang][ds_type] = ds[ds_type].filter(\n",
    "            lambda batch: [x == lang for x in batch['language']],\n",
    "            batched = True,\n",
    "            num_proc=4\n",
    "            )\n",
    "        \n",
    "        # Reduce dataset by 100 times\n",
    "        rows_counter = datasets_by_language[lang][ds_type].num_rows\n",
    "        new_num_rows = round(rows_counter*0.01)\n",
    "        datasets_by_language[lang][ds_type] = datasets_by_language[lang][ds_type].shuffle(seed=42)\n",
    "        datasets_by_language[lang][ds_type] = datasets_by_language[lang][ds_type].select(range(new_num_rows))\n",
    "    "
   ]
  },
  {
   "cell_type": "markdown",
   "id": "ea02ea93",
   "metadata": {},
   "source": [
    "### Tworzenie testowego datasetu"
   ]
  },
  {
   "cell_type": "code",
   "execution_count": 5,
   "id": "891fe671",
   "metadata": {},
   "outputs": [],
   "source": [
    "from datasets import concatenate_datasets\n",
    "\n",
    "test_languages = ['en', 'es', 'zh']\n",
    "test_ds_list = [datasets_by_language[lang]['test'] for lang in test_languages]\n",
    "test_dataset = concatenate_datasets(test_ds_list)"
   ]
  },
  {
   "cell_type": "markdown",
   "id": "eb3c1676",
   "metadata": {},
   "source": [
    "## Zero-shot Prompting"
   ]
  },
  {
   "cell_type": "code",
   "execution_count": 2,
   "id": "cf0af038",
   "metadata": {},
   "outputs": [
    {
     "name": "stderr",
     "output_type": "stream",
     "text": [
      "/Users/mikolaj/Desktop/STUDIA/CDV STOPIEŃ II/I ROK/II SEMESTR/Uczenie głebokie w przetwarzaniu języka/PROJEKT/Multilingual-sentiment-analysis/.venv/lib/python3.12/site-packages/tqdm/auto.py:21: TqdmWarning: IProgress not found. Please update jupyter and ipywidgets. See https://ipywidgets.readthedocs.io/en/stable/user_install.html\n",
      "  from .autonotebook import tqdm as notebook_tqdm\n"
     ]
    },
    {
     "data": {
      "text/plain": [
       "Qwen3ForCausalLM(\n",
       "  (model): Qwen3Model(\n",
       "    (embed_tokens): Embedding(151936, 1024)\n",
       "    (layers): ModuleList(\n",
       "      (0-27): 28 x Qwen3DecoderLayer(\n",
       "        (self_attn): Qwen3Attention(\n",
       "          (q_proj): Linear(in_features=1024, out_features=2048, bias=False)\n",
       "          (k_proj): Linear(in_features=1024, out_features=1024, bias=False)\n",
       "          (v_proj): Linear(in_features=1024, out_features=1024, bias=False)\n",
       "          (o_proj): Linear(in_features=2048, out_features=1024, bias=False)\n",
       "          (q_norm): Qwen3RMSNorm((128,), eps=1e-06)\n",
       "          (k_norm): Qwen3RMSNorm((128,), eps=1e-06)\n",
       "        )\n",
       "        (mlp): Qwen3MLP(\n",
       "          (gate_proj): Linear(in_features=1024, out_features=3072, bias=False)\n",
       "          (up_proj): Linear(in_features=1024, out_features=3072, bias=False)\n",
       "          (down_proj): Linear(in_features=3072, out_features=1024, bias=False)\n",
       "          (act_fn): SiLU()\n",
       "        )\n",
       "        (input_layernorm): Qwen3RMSNorm((1024,), eps=1e-06)\n",
       "        (post_attention_layernorm): Qwen3RMSNorm((1024,), eps=1e-06)\n",
       "      )\n",
       "    )\n",
       "    (norm): Qwen3RMSNorm((1024,), eps=1e-06)\n",
       "    (rotary_emb): Qwen3RotaryEmbedding()\n",
       "  )\n",
       "  (lm_head): Linear(in_features=1024, out_features=151936, bias=False)\n",
       ")"
      ]
     },
     "execution_count": 2,
     "metadata": {},
     "output_type": "execute_result"
    }
   ],
   "source": [
    "from transformers import AutoModelForCausalLM, AutoTokenizer\n",
    "import torch\n",
    "\n",
    "\n",
    "model_name = 'Qwen/Qwen3-0.6B'\n",
    "tokenizer = AutoTokenizer.from_pretrained(model_name)\n",
    "# For MacBooks with CPU Intel you have to set device_map as cpu and torch_dtype as torch.float32 \n",
    "# otherwise it doesn't compile\n",
    "zero_shot_model = AutoModelForCausalLM.from_pretrained(\n",
    "    model_name,\n",
    "    torch_dtype=torch.float32,\n",
    "    device_map={\"\": \"cpu\"})\n",
    "zero_shot_model.eval()"
   ]
  },
  {
   "cell_type": "code",
   "execution_count": 6,
   "id": "1778cb95",
   "metadata": {},
   "outputs": [],
   "source": [
    "# Prompt template\n",
    "def build_prompt(text):\n",
    "    return f\"Just define in one word the sentiment of this text as positive, negative or neutral:\\n\\\"{text}\\\"\\nAnswer(positive/negative/neutral):\\n\"\n",
    "\n",
    "def predict_sentiment(text):\n",
    "    prompt = build_prompt(text)\n",
    "    zero_shot_model_inputs = tokenizer(prompt, return_tensors=\"pt\").to(zero_shot_model.device)\n",
    "    generated_ids = zero_shot_model.generate(**zero_shot_model_inputs, max_new_tokens=3)\n",
    "    answer = tokenizer.batch_decode(generated_ids)[0][len(prompt):]\n",
    "    return answer"
   ]
  },
  {
   "cell_type": "code",
   "execution_count": 7,
   "id": "878746da",
   "metadata": {},
   "outputs": [
    {
     "name": "stdout",
     "output_type": "stream",
     "text": [
      "Biden turns to Wall Street for campaign funds\n",
      "Answer:\n",
      "positive\n",
      "\n",
      "Real answer:\n",
      "neutral\n"
     ]
    }
   ],
   "source": [
    "print(test_dataset[0]['text'])\n",
    "print(predict_sentiment(test_dataset[0]['text']))\n",
    "print(f'\\nReal answer:\\n{test_dataset[0]['label']}')"
   ]
  },
  {
   "cell_type": "markdown",
   "id": "0c785c17",
   "metadata": {},
   "source": [
    "### Test Zero-shot prompting"
   ]
  },
  {
   "cell_type": "code",
   "execution_count": 8,
   "id": "747a2dfc",
   "metadata": {},
   "outputs": [],
   "source": [
    "\n",
    "# Mapping dataset and get estimates from LLM\n",
    "def process(result, row):\n",
    "    text = row['text']\n",
    "    answer = predict_sentiment(text)\n",
    "    if row['label'] in answer:\n",
    "        result[row['language']] += 1\n",
    "\n",
    "# Calculate total and for each language accuracy\n",
    "def calc_accuracy(result, ds):\n",
    "    accuracy = {}\n",
    "    for lang in result:\n",
    "        lang_total = ds.filter(\n",
    "            lambda batch: [x == lang for x in batch['language']],\n",
    "            batched = True,\n",
    "            num_proc = 4\n",
    "        ).num_rows\n",
    "        accuracy[lang] = result[lang]/lang_total\n",
    "    total_accuracy = sum(result.values()) / ds.num_rows\n",
    "    accuracy['total'] = total_accuracy\n",
    "    return accuracy\n"
   ]
  },
  {
   "cell_type": "code",
   "execution_count": 8,
   "id": "6584f6c2",
   "metadata": {},
   "outputs": [
    {
     "name": "stderr",
     "output_type": "stream",
     "text": [
      "Map: 100%|██████████| 2186/2186 [1:30:10<00:00,  2.48s/ examples]     \n",
      "Filter (num_proc=4): 100%|██████████| 2186/2186 [00:00<00:00, 5776.67 examples/s]\n",
      "Filter (num_proc=4): 100%|██████████| 2186/2186 [00:00<00:00, 6192.13 examples/s]\n",
      "Filter (num_proc=4): 100%|██████████| 2186/2186 [00:00<00:00, 6291.48 examples/s]\n"
     ]
    }
   ],
   "source": [
    "zero_shot_results = {lang:0 for lang in test_languages}\n",
    "test_dataset.map(lambda row: process(zero_shot_results, row))\n",
    "zero_shot_accuracy = calc_accuracy(zero_shot_results, test_dataset)"
   ]
  },
  {
   "cell_type": "markdown",
   "id": "8a14d368",
   "metadata": {},
   "source": [
    "Dokładność dla zero-shot prompting"
   ]
  },
  {
   "cell_type": "code",
   "execution_count": null,
   "id": "7e8808b3",
   "metadata": {},
   "outputs": [
    {
     "name": "stdout",
     "output_type": "stream",
     "text": [
      "Język      Dokładność\n",
      "----------------------\n",
      "en         0.47      \n",
      "es         0.56      \n",
      "zh         0.45      \n",
      "total      0.48      \n"
     ]
    }
   ],
   "source": [
    "print(f\"{'Język':<10} {'Dokładność':<10}\")\n",
    "print('-' * 22)\n",
    "for lang, acc in zero_shot_accuracy.items():\n",
    "    print(f\"{lang:<10} {acc:<10.2f}\")\n"
   ]
  },
  {
   "cell_type": "markdown",
   "id": "e9a68b19",
   "metadata": {},
   "source": [
    "### LoRA"
   ]
  },
  {
   "cell_type": "code",
   "execution_count": 20,
   "id": "99057f2f",
   "metadata": {},
   "outputs": [],
   "source": [
    "train_languages = ['en', 'es', 'zh']\n",
    "train_ds_list = [datasets_by_language[lang]['train'] for lang in train_languages]\n",
    "train_dataset = concatenate_datasets(train_ds_list)\n",
    "eval_ds_list = [datasets_by_language[lang]['validation'] for lang in train_languages]\n",
    "eval_dataset = concatenate_datasets(eval_ds_list)"
   ]
  },
  {
   "cell_type": "code",
   "execution_count": 19,
   "id": "0cb24b53",
   "metadata": {},
   "outputs": [],
   "source": [
    "def prepare_prompt(row):\n",
    "    text = row['text']\n",
    "    label = row['label']\n",
    "    return f\"<|user|>What is the sentiment of the following sentence?\\n\\n\\\"{text}\\\"\\n<|assistant|>{label}\""
   ]
  },
  {
   "cell_type": "code",
   "execution_count": 40,
   "id": "07295ca5",
   "metadata": {},
   "outputs": [
    {
     "name": "stderr",
     "output_type": "stream",
     "text": [
      "Map: 100%|██████████| 2187/2187 [00:01<00:00, 1245.08 examples/s]\n"
     ]
    }
   ],
   "source": [
    "def lora_process(row):\n",
    "    prompt = prepare_prompt(row)\n",
    "    tokenized = tokenizer(\n",
    "        prompt,\n",
    "        truncation = True,\n",
    "        padding = 'max_length',\n",
    "        max_length = 128\n",
    "    )\n",
    "    tokenized['labels'] = tokenized['input_ids'].copy()\n",
    "    return tokenized\n",
    "\n",
    "tokenized_train_ds = train_dataset.map(lora_process)\n",
    "tokenized_train_ds = tokenized_train_ds.remove_columns(set(tokenized_train_ds.column_names) - {\"input_ids\", \"attention_mask\", \"labels\"})\n",
    "tokenized_train_num_rows = round(tokenized_train_ds.num_rows * 0.1)\n",
    "tokenized_train_ds = tokenized_train_ds.select(range(tokenized_train_num_rows))\n",
    "tokenized_eval_ds = eval_dataset.map(lora_process)\n",
    "tokenized_eval_ds = tokenized_eval_ds.remove_columns(set(tokenized_eval_ds.column_names) - {\"input_ids\", \"attention_mask\", \"labels\"})\n",
    "tokenized_eval_num_rows = round(tokenized_eval_ds.num_rows * 0.1)\n",
    "tokenized_eval_ds = tokenized_eval_ds.select(range(tokenized_eval_num_rows))"
   ]
  },
  {
   "cell_type": "code",
   "execution_count": 41,
   "id": "2602c7d4",
   "metadata": {},
   "outputs": [
    {
     "name": "stdout",
     "output_type": "stream",
     "text": [
      "{'input_ids': [27, 91, 872, 91, 29, 3838, 374, 279, 25975, 315, 279, 2701, 11652, 1939, 29133, 127368, 128848, 296, 31580, 71526, 472, 2819, 72, 8339, 15248, 12376, 3777, 15643, 40890, 131477, 10040, 27, 91, 77091, 91, 29, 59568, 151643, 151643, 151643, 151643, 151643, 151643, 151643, 151643, 151643, 151643, 151643, 151643, 151643, 151643, 151643, 151643, 151643, 151643, 151643, 151643, 151643, 151643, 151643, 151643, 151643, 151643, 151643, 151643, 151643, 151643, 151643, 151643, 151643, 151643, 151643, 151643, 151643, 151643, 151643, 151643, 151643, 151643, 151643, 151643, 151643, 151643, 151643, 151643, 151643, 151643, 151643, 151643, 151643, 151643, 151643, 151643, 151643, 151643, 151643, 151643, 151643, 151643, 151643, 151643, 151643, 151643, 151643, 151643, 151643, 151643, 151643, 151643, 151643, 151643, 151643, 151643, 151643, 151643, 151643, 151643, 151643, 151643, 151643, 151643, 151643, 151643, 151643, 151643, 151643, 151643, 151643], 'attention_mask': [1, 1, 1, 1, 1, 1, 1, 1, 1, 1, 1, 1, 1, 1, 1, 1, 1, 1, 1, 1, 1, 1, 1, 1, 1, 1, 1, 1, 1, 1, 1, 1, 1, 1, 1, 1, 1, 0, 0, 0, 0, 0, 0, 0, 0, 0, 0, 0, 0, 0, 0, 0, 0, 0, 0, 0, 0, 0, 0, 0, 0, 0, 0, 0, 0, 0, 0, 0, 0, 0, 0, 0, 0, 0, 0, 0, 0, 0, 0, 0, 0, 0, 0, 0, 0, 0, 0, 0, 0, 0, 0, 0, 0, 0, 0, 0, 0, 0, 0, 0, 0, 0, 0, 0, 0, 0, 0, 0, 0, 0, 0, 0, 0, 0, 0, 0, 0, 0, 0, 0, 0, 0, 0, 0, 0, 0, 0, 0], 'labels': [27, 91, 872, 91, 29, 3838, 374, 279, 25975, 315, 279, 2701, 11652, 1939, 29133, 127368, 128848, 296, 31580, 71526, 472, 2819, 72, 8339, 15248, 12376, 3777, 15643, 40890, 131477, 10040, 27, 91, 77091, 91, 29, 59568, 151643, 151643, 151643, 151643, 151643, 151643, 151643, 151643, 151643, 151643, 151643, 151643, 151643, 151643, 151643, 151643, 151643, 151643, 151643, 151643, 151643, 151643, 151643, 151643, 151643, 151643, 151643, 151643, 151643, 151643, 151643, 151643, 151643, 151643, 151643, 151643, 151643, 151643, 151643, 151643, 151643, 151643, 151643, 151643, 151643, 151643, 151643, 151643, 151643, 151643, 151643, 151643, 151643, 151643, 151643, 151643, 151643, 151643, 151643, 151643, 151643, 151643, 151643, 151643, 151643, 151643, 151643, 151643, 151643, 151643, 151643, 151643, 151643, 151643, 151643, 151643, 151643, 151643, 151643, 151643, 151643, 151643, 151643, 151643, 151643, 151643, 151643, 151643, 151643, 151643, 151643]}\n",
      "1750\n"
     ]
    }
   ],
   "source": [
    "print(tokenized_train_ds[0])\n",
    "print(tokenized_train_ds.num_rows)"
   ]
  },
  {
   "cell_type": "code",
   "execution_count": 17,
   "id": "b0ac6339",
   "metadata": {},
   "outputs": [
    {
     "name": "stdout",
     "output_type": "stream",
     "text": [
      "q_proj: True\n",
      "v_proj: True\n"
     ]
    }
   ],
   "source": [
    "# Checking target_modules in qwen\n",
    "proj_dict = {\n",
    "    \"q_proj\": False,\n",
    "    \"v_proj\": False\n",
    "}\n",
    "q_proj = 'q_proj'\n",
    "v_proj = 'v_proj'\n",
    "for name, module in zero_shot_model.named_modules():\n",
    "    if q_proj in name.lower() and not proj_dict[q_proj]:\n",
    "        proj_dict[q_proj] = True\n",
    "    if v_proj in name.lower() and not proj_dict[v_proj]:\n",
    "        proj_dict[v_proj] = True\n",
    "\n",
    "for key, value in proj_dict.items():\n",
    "    print(f'{key}: {value}')"
   ]
  },
  {
   "cell_type": "code",
   "execution_count": 18,
   "id": "7a37a4a2",
   "metadata": {},
   "outputs": [],
   "source": [
    "from peft import get_peft_model, LoraConfig, TaskType\n",
    "\n",
    "proj_list = list(proj_dict.keys())\n",
    "\n",
    "lora_config = LoraConfig(\n",
    "    r = 8,\n",
    "    lora_alpha = 16,\n",
    "    target_modules = proj_list,\n",
    "    lora_dropout = 0.05,\n",
    "    bias = 'none',\n",
    "    task_type = TaskType.CAUSAL_LM\n",
    ")\n",
    "\n",
    "lora_model = get_peft_model(zero_shot_model, lora_config)"
   ]
  },
  {
   "cell_type": "code",
   "execution_count": 42,
   "id": "b49fe99e",
   "metadata": {},
   "outputs": [
    {
     "name": "stderr",
     "output_type": "stream",
     "text": [
      "/var/folders/g3/sxyl_n7x6d51bbb320nhxx5c0000gn/T/ipykernel_28773/373639614.py:29: FutureWarning: `tokenizer` is deprecated and will be removed in version 5.0.0 for `Trainer.__init__`. Use `processing_class` instead.\n",
      "  trainer = Trainer(\n",
      "No label_names provided for model class `PeftModelForCausalLM`. Since `PeftModel` hides base models input arguments, if label_names is not given, label_names can't be set automatically within `Trainer`. Note that empty label_names list will be used instead.\n"
     ]
    },
    {
     "data": {
      "text/html": [
       "\n",
       "    <div>\n",
       "      \n",
       "      <progress value='657' max='657' style='width:300px; height:20px; vertical-align: middle;'></progress>\n",
       "      [657/657 2:48:56, Epoch 3/3]\n",
       "    </div>\n",
       "    <table border=\"1\" class=\"dataframe\">\n",
       "  <thead>\n",
       " <tr style=\"text-align: left;\">\n",
       "      <th>Epoch</th>\n",
       "      <th>Training Loss</th>\n",
       "      <th>Validation Loss</th>\n",
       "    </tr>\n",
       "  </thead>\n",
       "  <tbody>\n",
       "    <tr>\n",
       "      <td>1</td>\n",
       "      <td>2.833800</td>\n",
       "      <td>2.919358</td>\n",
       "    </tr>\n",
       "    <tr>\n",
       "      <td>2</td>\n",
       "      <td>2.807700</td>\n",
       "      <td>2.898644</td>\n",
       "    </tr>\n",
       "    <tr>\n",
       "      <td>3</td>\n",
       "      <td>2.770700</td>\n",
       "      <td>2.896948</td>\n",
       "    </tr>\n",
       "  </tbody>\n",
       "</table><p>"
      ],
      "text/plain": [
       "<IPython.core.display.HTML object>"
      ]
     },
     "metadata": {},
     "output_type": "display_data"
    },
    {
     "data": {
      "text/plain": [
       "TrainOutput(global_step=657, training_loss=2.8345217741061925, metrics={'train_runtime': 10149.9392, 'train_samples_per_second': 0.517, 'train_steps_per_second': 0.065, 'total_flos': 1780589002752000.0, 'train_loss': 2.8345217741061925, 'epoch': 3.0})"
      ]
     },
     "execution_count": 42,
     "metadata": {},
     "output_type": "execute_result"
    }
   ],
   "source": [
    "from transformers import Trainer, TrainingArguments, DataCollatorForLanguageModeling\n",
    "\n",
    "training_args = TrainingArguments(\n",
    "    output_dir=\"./qwen-sentiment-lora\",\n",
    "    overwrite_output_dir=True,\n",
    "    num_train_epochs=3,\n",
    "    per_device_train_batch_size=1,\n",
    "    gradient_accumulation_steps=8,\n",
    "    learning_rate=2e-4,\n",
    "    weight_decay=0.01,\n",
    "    save_strategy=\"epoch\",\n",
    "    eval_strategy=\"epoch\",\n",
    "    logging_strategy=\"steps\",\n",
    "    logging_steps=50,\n",
    "    save_total_limit=1,\n",
    "    load_best_model_at_end=False,\n",
    "    fp16=False,\n",
    "    bf16=False,\n",
    "    report_to=\"none\",\n",
    "    remove_unused_columns=False,\n",
    "    push_to_hub=False,\n",
    ")\n",
    "\n",
    "data_collator = DataCollatorForLanguageModeling(\n",
    "    tokenizer=tokenizer,\n",
    "    mlm = False\n",
    ")\n",
    "\n",
    "trainer = Trainer(\n",
    "    model = lora_model,\n",
    "    args = training_args,\n",
    "    train_dataset = tokenized_train_ds,\n",
    "    eval_dataset = tokenized_eval_ds,\n",
    "    tokenizer = tokenizer,\n",
    "    data_collator = data_collator\n",
    ")\n",
    "\n",
    "trainer.train()"
   ]
  },
  {
   "cell_type": "code",
   "execution_count": 43,
   "id": "0b643fc1",
   "metadata": {},
   "outputs": [],
   "source": [
    "# Prompt template\n",
    "def build_prompt(text):\n",
    "    return f\"What is the sentiment of the following sentence?\\n\\n\\\"{text}\\\"\\n\"\n",
    "\n",
    "def predict_sentiment(text):\n",
    "    prompt = build_prompt(text)\n",
    "    lora_model_inputs = tokenizer(prompt, return_tensors=\"pt\").to(lora_model.device)\n",
    "    generated_ids = lora_model.generate(**lora_model_inputs, max_new_tokens=10)\n",
    "    answer = tokenizer.batch_decode(generated_ids)[0][len(prompt):]\n",
    "    return answer"
   ]
  },
  {
   "cell_type": "code",
   "execution_count": 44,
   "id": "bf45de59",
   "metadata": {},
   "outputs": [],
   "source": [
    "# Mapping dataset and get estimates from LLM\n",
    "def process(result, row):\n",
    "    text = row['text']\n",
    "    answer = predict_sentiment(text)\n",
    "    if row['label'] in answer:\n",
    "        result[row['language']] += 1\n",
    "\n",
    "# Calculate total and for each language accuracy\n",
    "def calc_accuracy(result, ds):\n",
    "    accuracy = {}\n",
    "    for lang in result:\n",
    "        lang_total = ds.filter(\n",
    "            lambda batch: [x == lang for x in batch['language']],\n",
    "            batched = True,\n",
    "            num_proc = 4\n",
    "        ).num_rows\n",
    "        accuracy[lang] = result[lang]/lang_total\n",
    "    total_accuracy = sum(result.values()) / ds.num_rows\n",
    "    accuracy['total'] = total_accuracy\n",
    "    return accuracy"
   ]
  },
  {
   "cell_type": "code",
   "execution_count": 47,
   "id": "a346a747",
   "metadata": {},
   "outputs": [
    {
     "name": "stderr",
     "output_type": "stream",
     "text": [
      "Map: 100%|██████████| 2186/2186 [1:19:15<00:00,  2.18s/ examples]\n"
     ]
    }
   ],
   "source": [
    "lora_model.to('cpu')\n",
    "lora_results = {lang:0 for lang in test_languages}\n",
    "test_dataset.map(lambda row: process(lora_results, row))\n",
    "lora_accuracy = calc_accuracy(lora_results, test_dataset)"
   ]
  },
  {
   "cell_type": "code",
   "execution_count": 49,
   "id": "19d2bd8c",
   "metadata": {},
   "outputs": [
    {
     "name": "stdout",
     "output_type": "stream",
     "text": [
      "Język      Dokładność\n",
      "----------------------\n",
      "en         0.20      \n",
      "es         0.12      \n",
      "zh         0.20      \n",
      "total      0.19      \n"
     ]
    }
   ],
   "source": [
    "print(f\"{'Język':<10} {'Dokładność':<10}\")\n",
    "print('-' * 22)\n",
    "for lang, acc in lora_accuracy.items():\n",
    "    print(f\"{lang:<10} {acc:<10.2f}\")\n"
   ]
  }
 ],
 "metadata": {
  "kernelspec": {
   "display_name": ".venv",
   "language": "python",
   "name": "python3"
  },
  "language_info": {
   "codemirror_mode": {
    "name": "ipython",
    "version": 3
   },
   "file_extension": ".py",
   "mimetype": "text/x-python",
   "name": "python",
   "nbconvert_exporter": "python",
   "pygments_lexer": "ipython3",
   "version": "3.12.8"
  }
 },
 "nbformat": 4,
 "nbformat_minor": 5
}
