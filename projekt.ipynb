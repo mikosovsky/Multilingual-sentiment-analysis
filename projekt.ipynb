{
 "cells": [
  {
   "cell_type": "markdown",
   "id": "46f6840d",
   "metadata": {},
   "source": [
    "**Temat:** Analiza sentymentu w tekstach internetowych w oparciu o sieci typu Transformer\n",
    "\n",
    "**Wprowadzenie:** Analiza sentymentu to technika przetwarzania języka naturalnego (NLP), która identyfikuje ton emocjonalny w tekście, klasyfikując go na pozytywny, negatywny lub neutralny. Wykorzystuje się ją do badania opinii klientów, monitorowania reputacji marki czy analizy treści mediów społecznościowych.\n",
    "\n",
    "**Cel projektu:** Celem projektu jest opracowanie i implementacja modelu analizy sentymentu, który pozwoli na klasyfikację opinii użytkowników na podstawie tekstów pochodzących z Internetu. Należy przeanalizować dane tekstowe, przygotować odpowiedni model oraz zaprezentować wyniki analizy."
   ]
  },
  {
   "cell_type": "code",
   "execution_count": null,
   "id": "ab0fbe26",
   "metadata": {},
   "outputs": [],
   "source": [
    "!pip3 install datasets"
   ]
  },
  {
   "cell_type": "markdown",
   "id": "ddd654a6",
   "metadata": {},
   "source": [
    "### Ładowanie danych"
   ]
  },
  {
   "cell_type": "code",
   "execution_count": 2,
   "id": "c20d6e4d",
   "metadata": {},
   "outputs": [
    {
     "name": "stderr",
     "output_type": "stream",
     "text": [
      "/Users/michalklos/Studia_Projekty/NLP/Multilingual-sentiment-analysis/.venv/lib/python3.11/site-packages/tqdm/auto.py:21: TqdmWarning: IProgress not found. Please update jupyter and ipywidgets. See https://ipywidgets.readthedocs.io/en/stable/user_install.html\n",
      "  from .autonotebook import tqdm as notebook_tqdm\n",
      "Generating train split: 100%|██████████| 3147478/3147478 [00:03<00:00, 914714.86 examples/s] \n",
      "Generating validation split: 100%|██████████| 393435/393435 [00:00<00:00, 906574.56 examples/s]\n",
      "Generating test split: 100%|██████████| 393436/393436 [00:00<00:00, 888580.63 examples/s]\n"
     ]
    }
   ],
   "source": [
    "from datasets import load_dataset\n",
    "\n",
    "ds = load_dataset(\"clapAI/MultiLingualSentiment\")"
   ]
  },
  {
   "cell_type": "code",
   "execution_count": 7,
   "id": "a8000292",
   "metadata": {},
   "outputs": [
    {
     "name": "stdout",
     "output_type": "stream",
     "text": [
      "DatasetDict({\n",
      "    train: Dataset({\n",
      "        features: ['text', 'label', 'source', 'domain', 'language'],\n",
      "        num_rows: 3147478\n",
      "    })\n",
      "    validation: Dataset({\n",
      "        features: ['text', 'label', 'source', 'domain', 'language'],\n",
      "        num_rows: 393435\n",
      "    })\n",
      "    test: Dataset({\n",
      "        features: ['text', 'label', 'source', 'domain', 'language'],\n",
      "        num_rows: 393436\n",
      "    })\n",
      "})\n"
     ]
    }
   ],
   "source": [
    "print(ds)"
   ]
  },
  {
   "cell_type": "code",
   "execution_count": null,
   "id": "324912c6",
   "metadata": {},
   "outputs": [
    {
     "name": "stdout",
     "output_type": "stream",
     "text": [
      "Available languages: ['en', 'es', 'ja', 'ar', 'tr', 'fr', 'vi', 'zh', 'de', 'ru', 'ko', 'id', 'multilingual', 'pt', 'ms', 'hi', 'it']\n"
     ]
    },
    {
     "name": "stderr",
     "output_type": "stream",
     "text": [
      "Filter: 100%|██████████| 3147478/3147478 [00:45<00:00, 68810.59 examples/s]\n",
      "Filter: 100%|██████████| 3147478/3147478 [00:34<00:00, 90161.44 examples/s]\n",
      "Filter: 100%|██████████| 3147478/3147478 [00:34<00:00, 90016.95 examples/s]\n",
      "Filter: 100%|██████████| 3147478/3147478 [00:34<00:00, 91167.73 examples/s]\n",
      "Filter: 100%|██████████| 3147478/3147478 [00:34<00:00, 91295.43 examples/s]\n",
      "Filter: 100%|██████████| 3147478/3147478 [00:34<00:00, 90415.15 examples/s]\n",
      "Filter: 100%|██████████| 3147478/3147478 [00:36<00:00, 85719.55 examples/s]\n",
      "Filter: 100%|██████████| 3147478/3147478 [00:36<00:00, 85411.71 examples/s]\n",
      "Filter: 100%|██████████| 3147478/3147478 [00:34<00:00, 89933.10 examples/s]\n",
      "Filter: 100%|██████████| 3147478/3147478 [00:34<00:00, 90618.77 examples/s]\n",
      "Filter: 100%|██████████| 3147478/3147478 [00:34<00:00, 91074.75 examples/s]\n",
      "Filter: 100%|██████████| 3147478/3147478 [00:34<00:00, 91577.42 examples/s]\n",
      "Filter: 100%|██████████| 3147478/3147478 [00:34<00:00, 91223.58 examples/s]\n",
      "Filter: 100%|██████████| 3147478/3147478 [00:36<00:00, 86048.00 examples/s]\n",
      "Filter: 100%|██████████| 3147478/3147478 [00:36<00:00, 87027.45 examples/s]\n",
      "Filter: 100%|██████████| 3147478/3147478 [00:37<00:00, 84411.95 examples/s]\n",
      "Filter: 100%|██████████| 3147478/3147478 [00:40<00:00, 77903.16 examples/s]\n"
     ]
    }
   ],
   "source": [
    "# what languages are available\n",
    "languages = ds['train'].unique('language')\n",
    "print(\"Available languages:\", languages)\n",
    "\n",
    "# Create dictionary to store datasets for each language\n",
    "datasets_by_language = {}\n",
    "\n",
    "# Split train for each language (takes a while)\n",
    "for lang in languages:\n",
    "    datasets_by_language[lang] = ds['train'].filter(lambda x: x['language'] == lang)\n",
    "    "
   ]
  },
  {
   "cell_type": "code",
   "execution_count": 10,
   "id": "9718600a",
   "metadata": {},
   "outputs": [
    {
     "data": {
      "text/plain": [
       "{'text': 'コードレス設計で車内の掃除もできます。\\nコードレス設計で車内の掃除もできます。砂と土なども吸い込みます。掃除苦手の私でも快適に掃除ができます。',\n",
       " 'label': 'positive',\n",
       " 'source': 'https://huggingface.co/datasets/mteb/amazon_reviews_multi',\n",
       " 'domain': 'amazon reviews',\n",
       " 'language': 'ja'}"
      ]
     },
     "execution_count": 10,
     "metadata": {},
     "output_type": "execute_result"
    }
   ],
   "source": [
    "datasets_by_language['ja'][0]"
   ]
  }
 ],
 "metadata": {
  "kernelspec": {
   "display_name": ".venv",
   "language": "python",
   "name": "python3"
  },
  "language_info": {
   "codemirror_mode": {
    "name": "ipython",
    "version": 3
   },
   "file_extension": ".py",
   "mimetype": "text/x-python",
   "name": "python",
   "nbconvert_exporter": "python",
   "pygments_lexer": "ipython3",
   "version": "3.11.4"
  }
 },
 "nbformat": 4,
 "nbformat_minor": 5
}
