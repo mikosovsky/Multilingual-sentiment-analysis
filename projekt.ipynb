{
 "cells": [
  {
   "cell_type": "markdown",
   "id": "46f6840d",
   "metadata": {},
   "source": [
    "**Temat:** Analiza sentymentu w tekstach internetowych w oparciu o sieci typu Transformer\n",
    "\n",
    "**Wprowadzenie:** Analiza sentymentu to technika przetwarzania języka naturalnego (NLP), która identyfikuje ton emocjonalny w tekście, klasyfikując go na pozytywny, negatywny lub neutralny. Wykorzystuje się ją do badania opinii klientów, monitorowania reputacji marki czy analizy treści mediów społecznościowych.\n",
    "\n",
    "**Cel projektu:** Celem projektu jest opracowanie i implementacja modelu analizy sentymentu, który pozwoli na klasyfikację opinii użytkowników na podstawie tekstów pochodzących z Internetu. Należy przeanalizować dane tekstowe, przygotować odpowiedni model oraz zaprezentować wyniki analizy."
   ]
  },
  {
   "cell_type": "code",
   "execution_count": null,
   "id": "ab0fbe26",
   "metadata": {},
   "outputs": [],
   "source": [
    "!pip3 install datasets"
   ]
  },
  {
   "cell_type": "markdown",
   "id": "ddd654a6",
   "metadata": {},
   "source": [
    "### Ładowanie danych"
   ]
  },
  {
   "cell_type": "code",
   "execution_count": 1,
   "id": "c20d6e4d",
   "metadata": {},
   "outputs": [],
   "source": [
    "from datasets import load_dataset\n",
    "\n",
    "ds = load_dataset(\"clapAI/MultiLingualSentiment\")"
   ]
  },
  {
   "cell_type": "code",
   "execution_count": 2,
   "id": "a8000292",
   "metadata": {},
   "outputs": [
    {
     "name": "stdout",
     "output_type": "stream",
     "text": [
      "DatasetDict({\n",
      "    train: Dataset({\n",
      "        features: ['text', 'label', 'source', 'domain', 'language'],\n",
      "        num_rows: 3147478\n",
      "    })\n",
      "    validation: Dataset({\n",
      "        features: ['text', 'label', 'source', 'domain', 'language'],\n",
      "        num_rows: 393435\n",
      "    })\n",
      "    test: Dataset({\n",
      "        features: ['text', 'label', 'source', 'domain', 'language'],\n",
      "        num_rows: 393436\n",
      "    })\n",
      "})\n"
     ]
    }
   ],
   "source": [
    "print(ds)"
   ]
  },
  {
   "cell_type": "code",
   "execution_count": 3,
   "id": "324912c6",
   "metadata": {},
   "outputs": [
    {
     "name": "stdout",
     "output_type": "stream",
     "text": [
      "Available languages: ['en', 'es', 'ja', 'ar', 'tr', 'fr', 'vi', 'zh', 'de', 'ru', 'ko', 'id', 'multilingual', 'pt', 'ms', 'hi', 'it']\n"
     ]
    }
   ],
   "source": [
    "# what languages are available\n",
    "languages = ds['train'].unique('language')\n",
    "print(\"Available languages:\", languages)\n",
    "\n",
    "# Create dictionary to store datasets for each language\n",
    "datasets_by_language = {}\n",
    "\n",
    "# # Split train for each language\n",
    "for lang in languages:\n",
    "    datasets_by_language[lang] = ds['train'].filter(\n",
    "        lambda batch: [x == lang for x in batch['language']],\n",
    "        batched = True,\n",
    "        num_proc=4\n",
    "        )\n",
    "    "
   ]
  },
  {
   "cell_type": "code",
   "execution_count": 4,
   "id": "9718600a",
   "metadata": {},
   "outputs": [
    {
     "data": {
      "text/plain": [
       "{'text': 'コードレス設計で車内の掃除もできます。\\nコードレス設計で車内の掃除もできます。砂と土なども吸い込みます。掃除苦手の私でも快適に掃除ができます。',\n",
       " 'label': 'positive',\n",
       " 'source': 'https://huggingface.co/datasets/mteb/amazon_reviews_multi',\n",
       " 'domain': 'amazon reviews',\n",
       " 'language': 'ja'}"
      ]
     },
     "execution_count": 4,
     "metadata": {},
     "output_type": "execute_result"
    }
   ],
   "source": [
    "datasets_by_language['ja'][0]"
   ]
  }
 ],
 "metadata": {
  "kernelspec": {
   "display_name": ".venv",
   "language": "python",
   "name": "python3"
  },
  "language_info": {
   "codemirror_mode": {
    "name": "ipython",
    "version": 3
   },
   "file_extension": ".py",
   "mimetype": "text/x-python",
   "name": "python",
   "nbconvert_exporter": "python",
   "pygments_lexer": "ipython3",
   "version": "3.13.3"
  }
 },
 "nbformat": 4,
 "nbformat_minor": 5
}
