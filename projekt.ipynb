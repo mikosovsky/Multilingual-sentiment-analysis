{
 "cells": [
  {
   "cell_type": "markdown",
   "id": "46f6840d",
   "metadata": {},
   "source": [
    "**Temat:** Analiza sentymentu w tekstach internetowych w oparciu o sieci typu Transformer\n",
    "\n",
    "**Wprowadzenie:** Analiza sentymentu to technika przetwarzania języka naturalnego (NLP), która identyfikuje ton emocjonalny w tekście, klasyfikując go na pozytywny, negatywny lub neutralny. Wykorzystuje się ją do badania opinii klientów, monitorowania reputacji marki czy analizy treści mediów społecznościowych.\n",
    "\n",
    "**Cel projektu:** Celem projektu jest opracowanie i implementacja modelu analizy sentymentu, który pozwoli na klasyfikację opinii użytkowników na podstawie tekstów pochodzących z Internetu. Należy przeanalizować dane tekstowe, przygotować odpowiedni model oraz zaprezentować wyniki analizy."
   ]
  },
  {
   "cell_type": "code",
   "execution_count": 14,
   "id": "ab0fbe26",
   "metadata": {},
   "outputs": [],
   "source": [
    "!pip3 install datasets transformers torch 'numpy<2' accelerate --quiet"
   ]
  },
  {
   "cell_type": "markdown",
   "id": "ddd654a6",
   "metadata": {},
   "source": [
    "### Ładowanie danych"
   ]
  },
  {
   "cell_type": "code",
   "execution_count": 15,
   "id": "c20d6e4d",
   "metadata": {},
   "outputs": [],
   "source": [
    "from datasets import load_dataset\n",
    "\n",
    "ds = load_dataset(\"clapAI/MultiLingualSentiment\")"
   ]
  },
  {
   "cell_type": "code",
   "execution_count": 23,
   "id": "a8000292",
   "metadata": {},
   "outputs": [
    {
     "name": "stdout",
     "output_type": "stream",
     "text": [
      "A good environment with good food. Price is reasonable.\n",
      "positive\n"
     ]
    }
   ],
   "source": [
    "print(ds['train'][0]['text'])\n",
    "print(ds['train'][0]['label'])"
   ]
  },
  {
   "cell_type": "code",
   "execution_count": 9,
   "id": "324912c6",
   "metadata": {},
   "outputs": [
    {
     "name": "stdout",
     "output_type": "stream",
     "text": [
      "Available languages: ['en', 'es', 'ja', 'ar', 'tr', 'fr', 'vi', 'zh', 'de', 'ru', 'ko', 'id', 'multilingual', 'pt', 'ms', 'hi', 'it']\n"
     ]
    },
    {
     "name": "stderr",
     "output_type": "stream",
     "text": [
      "Filter (num_proc=4): 100%|██████████| 3147478/3147478 [00:01<00:00, 1769567.49 examples/s]\n",
      "Filter (num_proc=4): 100%|██████████| 3147478/3147478 [00:01<00:00, 1784023.50 examples/s]\n",
      "Filter (num_proc=4): 100%|██████████| 3147478/3147478 [00:01<00:00, 1893929.40 examples/s]\n",
      "Filter (num_proc=4): 100%|██████████| 3147478/3147478 [00:01<00:00, 1864931.06 examples/s]\n",
      "Filter (num_proc=4): 100%|██████████| 3147478/3147478 [00:01<00:00, 1962052.74 examples/s]\n",
      "Filter (num_proc=4): 100%|██████████| 3147478/3147478 [00:01<00:00, 1930118.75 examples/s]\n",
      "Filter (num_proc=4): 100%|██████████| 3147478/3147478 [00:01<00:00, 1936049.42 examples/s]\n",
      "Filter (num_proc=4): 100%|██████████| 3147478/3147478 [00:01<00:00, 1909676.02 examples/s]\n",
      "Filter (num_proc=4): 100%|██████████| 3147478/3147478 [00:01<00:00, 1907027.18 examples/s]\n",
      "Filter (num_proc=4): 100%|██████████| 3147478/3147478 [00:01<00:00, 1898341.07 examples/s]\n",
      "Filter (num_proc=4): 100%|██████████| 3147478/3147478 [00:01<00:00, 1877616.93 examples/s]\n",
      "Filter (num_proc=4): 100%|██████████| 3147478/3147478 [00:01<00:00, 1889828.96 examples/s]\n",
      "Filter (num_proc=4): 100%|██████████| 3147478/3147478 [00:01<00:00, 1904061.02 examples/s]\n",
      "Filter (num_proc=4): 100%|██████████| 3147478/3147478 [00:02<00:00, 1539075.79 examples/s]\n",
      "Filter (num_proc=4): 100%|██████████| 3147478/3147478 [00:01<00:00, 1960694.79 examples/s]\n",
      "Filter (num_proc=4): 100%|██████████| 3147478/3147478 [00:01<00:00, 1883150.16 examples/s]\n",
      "Filter (num_proc=4): 100%|██████████| 3147478/3147478 [00:01<00:00, 1960305.52 examples/s]\n"
     ]
    }
   ],
   "source": [
    "# what languages are available\n",
    "languages = ds['train'].unique('language')\n",
    "print(\"Available languages:\", languages)\n",
    "\n",
    "# Create dictionary to store datasets for each language\n",
    "datasets_by_language = {}\n",
    "\n",
    "# # Split train for each language\n",
    "for lang in languages:\n",
    "    datasets_by_language[lang] = ds['train'].filter(\n",
    "        lambda batch: [x == lang for x in batch['language']],\n",
    "        batched = True,\n",
    "        num_proc=4\n",
    "        )\n",
    "    "
   ]
  },
  {
   "cell_type": "code",
   "execution_count": 10,
   "id": "9718600a",
   "metadata": {},
   "outputs": [
    {
     "data": {
      "text/plain": [
       "{'text': 'コードレス設計で車内の掃除もできます。\\nコードレス設計で車内の掃除もできます。砂と土なども吸い込みます。掃除苦手の私でも快適に掃除ができます。',\n",
       " 'label': 'positive',\n",
       " 'source': 'https://huggingface.co/datasets/mteb/amazon_reviews_multi',\n",
       " 'domain': 'amazon reviews',\n",
       " 'language': 'ja'}"
      ]
     },
     "execution_count": 10,
     "metadata": {},
     "output_type": "execute_result"
    }
   ],
   "source": [
    "datasets_by_language['ja'][0]"
   ]
  },
  {
   "cell_type": "code",
   "execution_count": 4,
   "id": "3246f164",
   "metadata": {},
   "outputs": [
    {
     "name": "stdout",
     "output_type": "stream",
     "text": [
      "<module 'torch.version' from '/Users/mikolaj/Desktop/STUDIA/CDV STOPIEŃ II/I ROK/II SEMESTR/Uczenie głebokie w przetwarzaniu języka/PROJEKT/Multilingual-sentiment-analysis/.venv/lib/python3.12/site-packages/torch/version.py'>\n",
      "<functools._lru_cache_wrapper object at 0x11d5dc460>\n"
     ]
    }
   ],
   "source": [
    "import torch\n",
    "\n",
    "print(f'{torch.version}')\n",
    "print(torch.backends.mps.is_available)"
   ]
  },
  {
   "cell_type": "markdown",
   "id": "eb3c1676",
   "metadata": {},
   "source": [
    "## Zero-shot Prompting"
   ]
  },
  {
   "cell_type": "code",
   "execution_count": 55,
   "id": "cf0af038",
   "metadata": {},
   "outputs": [
    {
     "data": {
      "text/plain": [
       "Qwen3ForCausalLM(\n",
       "  (model): Qwen3Model(\n",
       "    (embed_tokens): Embedding(151936, 1024)\n",
       "    (layers): ModuleList(\n",
       "      (0-27): 28 x Qwen3DecoderLayer(\n",
       "        (self_attn): Qwen3Attention(\n",
       "          (q_proj): Linear(in_features=1024, out_features=2048, bias=False)\n",
       "          (k_proj): Linear(in_features=1024, out_features=1024, bias=False)\n",
       "          (v_proj): Linear(in_features=1024, out_features=1024, bias=False)\n",
       "          (o_proj): Linear(in_features=2048, out_features=1024, bias=False)\n",
       "          (q_norm): Qwen3RMSNorm((128,), eps=1e-06)\n",
       "          (k_norm): Qwen3RMSNorm((128,), eps=1e-06)\n",
       "        )\n",
       "        (mlp): Qwen3MLP(\n",
       "          (gate_proj): Linear(in_features=1024, out_features=3072, bias=False)\n",
       "          (up_proj): Linear(in_features=1024, out_features=3072, bias=False)\n",
       "          (down_proj): Linear(in_features=3072, out_features=1024, bias=False)\n",
       "          (act_fn): SiLU()\n",
       "        )\n",
       "        (input_layernorm): Qwen3RMSNorm((1024,), eps=1e-06)\n",
       "        (post_attention_layernorm): Qwen3RMSNorm((1024,), eps=1e-06)\n",
       "      )\n",
       "    )\n",
       "    (norm): Qwen3RMSNorm((1024,), eps=1e-06)\n",
       "    (rotary_emb): Qwen3RotaryEmbedding()\n",
       "  )\n",
       "  (lm_head): Linear(in_features=1024, out_features=151936, bias=False)\n",
       ")"
      ]
     },
     "execution_count": 55,
     "metadata": {},
     "output_type": "execute_result"
    }
   ],
   "source": [
    "from transformers import AutoModelForCausalLM, AutoTokenizer\n",
    "import torch\n",
    "\n",
    "\n",
    "model_name = 'Qwen/Qwen3-0.6B'\n",
    "tokenizer = AutoTokenizer.from_pretrained(model_name)\n",
    "# For MacBooks with CPU Intel you have to set device_map as cpu and torch_dtype as torch.float32 \n",
    "# otherwise it doesn't compile\n",
    "zero_shot_model = AutoModelForCausalLM.from_pretrained(\n",
    "    model_name,\n",
    "    torch_dtype=torch.float32,\n",
    "    device_map={\"\": \"cpu\"})\n",
    "zero_shot_model.eval()"
   ]
  },
  {
   "cell_type": "code",
   "execution_count": 97,
   "id": "1778cb95",
   "metadata": {},
   "outputs": [],
   "source": [
    "# Prompt template\n",
    "def build_prompt(text):\n",
    "    return f\"Just define in one word the sentiment of this text as positive, negative or neutral:\\n\\\"{text}\\\"\\nAnswer(positive/negative/neutral):\\n\"\n",
    "\n",
    "def predict_sentiment(text):\n",
    "    prompt = build_prompt(text)\n",
    "    zero_shot_model_inputs = tokenizer(prompt, return_tensors=\"pt\").to(zero_shot_model.device)\n",
    "    generated_ids = zero_shot_model.generate(**zero_shot_model_inputs, max_new_tokens=3)\n",
    "    print(tokenizer.batch_decode(generated_ids)[0][len(prompt):])"
   ]
  },
  {
   "cell_type": "code",
   "execution_count": 98,
   "id": "878746da",
   "metadata": {},
   "outputs": [
    {
     "name": "stdout",
     "output_type": "stream",
     "text": [
      "Answer:\n",
      "positive\n",
      "\n",
      "Real answer:\n",
      "positive\n"
     ]
    }
   ],
   "source": [
    "predict_sentiment(ds['train'][0]['text'])\n",
    "print(f'\\nReal answer:\\n{ds['train'][0]['label']}')"
   ]
  }
 ],
 "metadata": {
  "kernelspec": {
   "display_name": ".venv",
   "language": "python",
   "name": "python3"
  },
  "language_info": {
   "codemirror_mode": {
    "name": "ipython",
    "version": 3
   },
   "file_extension": ".py",
   "mimetype": "text/x-python",
   "name": "python",
   "nbconvert_exporter": "python",
   "pygments_lexer": "ipython3",
   "version": "3.12.8"
  }
 },
 "nbformat": 4,
 "nbformat_minor": 5
}
