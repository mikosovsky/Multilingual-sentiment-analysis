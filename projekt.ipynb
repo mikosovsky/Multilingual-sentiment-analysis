{
 "cells": [
  {
   "cell_type": "markdown",
   "id": "46f6840d",
   "metadata": {},
   "source": [
    "**Temat:** Analiza sentymentu w tekstach internetowych w oparciu o sieci typu Transformer\n",
    "\n",
    "**Wprowadzenie:** Analiza sentymentu to technika przetwarzania języka naturalnego (NLP), która identyfikuje ton emocjonalny w tekście, klasyfikując go na pozytywny, negatywny lub neutralny. Wykorzystuje się ją do badania opinii klientów, monitorowania reputacji marki czy analizy treści mediów społecznościowych.\n",
    "\n",
    "**Cel projektu:** Celem projektu jest opracowanie i implementacja modelu analizy sentymentu, który pozwoli na klasyfikację opinii użytkowników na podstawie tekstów pochodzących z Internetu. Należy przeanalizować dane tekstowe, przygotować odpowiedni model oraz zaprezentować wyniki analizy."
   ]
  },
  {
   "cell_type": "code",
   "execution_count": 22,
   "id": "ab0fbe26",
   "metadata": {},
   "outputs": [
    {
     "name": "stdout",
     "output_type": "stream",
     "text": [
      "Note: you may need to restart the kernel to use updated packages.\n"
     ]
    }
   ],
   "source": [
    "%pip install datasets transformers torch langdetect --quiet"
   ]
  },
  {
   "cell_type": "markdown",
   "id": "ddd654a6",
   "metadata": {},
   "source": [
    "### Ładowanie danych"
   ]
  },
  {
   "cell_type": "code",
   "execution_count": 1,
   "id": "c20d6e4d",
   "metadata": {},
   "outputs": [
    {
     "name": "stderr",
     "output_type": "stream",
     "text": [
      "/Users/mikolaj/Desktop/STUDIA/CDV STOPIEŃ II/I ROK/II SEMESTR/Uczenie głebokie w przetwarzaniu języka/PROJEKT/Multilingual-sentiment-analysis/.venv/lib/python3.12/site-packages/tqdm/auto.py:21: TqdmWarning: IProgress not found. Please update jupyter and ipywidgets. See https://ipywidgets.readthedocs.io/en/stable/user_install.html\n",
      "  from .autonotebook import tqdm as notebook_tqdm\n"
     ]
    }
   ],
   "source": [
    "from datasets import load_dataset\n",
    "\n",
    "ds = load_dataset(\"clapAI/MultiLingualSentiment\")"
   ]
  },
  {
   "cell_type": "code",
   "execution_count": 2,
   "id": "a8000292",
   "metadata": {},
   "outputs": [
    {
     "name": "stdout",
     "output_type": "stream",
     "text": [
      "DatasetDict({\n",
      "    train: Dataset({\n",
      "        features: ['text', 'label', 'source', 'domain', 'language'],\n",
      "        num_rows: 3147478\n",
      "    })\n",
      "    validation: Dataset({\n",
      "        features: ['text', 'label', 'source', 'domain', 'language'],\n",
      "        num_rows: 393435\n",
      "    })\n",
      "    test: Dataset({\n",
      "        features: ['text', 'label', 'source', 'domain', 'language'],\n",
      "        num_rows: 393436\n",
      "    })\n",
      "})\n"
     ]
    }
   ],
   "source": [
    "print(ds)"
   ]
  },
  {
   "cell_type": "code",
   "execution_count": null,
   "id": "324912c6",
   "metadata": {},
   "outputs": [
    {
     "name": "stderr",
     "output_type": "stream",
     "text": [
      "Filter (num_proc=4): 100%|██████████| 3147478/3147478 [00:01<00:00, 1593933.63 examples/s]\n",
      "Filter (num_proc=4): 100%|██████████| 393435/393435 [00:00<00:00, 970828.42 examples/s]\n",
      "Filter (num_proc=4): 100%|██████████| 393436/393436 [00:00<00:00, 937174.09 examples/s]\n",
      "Filter (num_proc=4): 100%|██████████| 3147478/3147478 [00:01<00:00, 1672955.12 examples/s]\n",
      "Filter (num_proc=4): 100%|██████████| 393435/393435 [00:00<00:00, 1042327.62 examples/s]\n",
      "Filter (num_proc=4): 100%|██████████| 393436/393436 [00:00<00:00, 1036326.39 examples/s]\n",
      "Filter (num_proc=4): 100%|██████████| 3147478/3147478 [00:01<00:00, 1653757.68 examples/s]\n",
      "Filter (num_proc=4): 100%|██████████| 393435/393435 [00:00<00:00, 1069735.66 examples/s]\n",
      "Filter (num_proc=4): 100%|██████████| 393436/393436 [00:00<00:00, 1031221.27 examples/s]\n",
      "Filter (num_proc=4): 100%|██████████| 3147478/3147478 [00:01<00:00, 1677637.81 examples/s]\n",
      "Filter (num_proc=4): 100%|██████████| 393435/393435 [00:00<00:00, 1081991.97 examples/s]\n",
      "Filter (num_proc=4): 100%|██████████| 393436/393436 [00:00<00:00, 1099425.36 examples/s]\n",
      "Filter (num_proc=4): 100%|██████████| 3147478/3147478 [00:01<00:00, 1850995.00 examples/s]\n",
      "Filter (num_proc=4): 100%|██████████| 393435/393435 [00:00<00:00, 1092647.37 examples/s]\n",
      "Filter (num_proc=4): 100%|██████████| 393436/393436 [00:00<00:00, 1123708.18 examples/s]\n",
      "Filter (num_proc=4): 100%|██████████| 3147478/3147478 [00:01<00:00, 1749514.27 examples/s]\n",
      "Filter (num_proc=4): 100%|██████████| 393435/393435 [00:00<00:00, 1108710.59 examples/s]\n",
      "Filter (num_proc=4): 100%|██████████| 393436/393436 [00:00<00:00, 1127559.56 examples/s]\n",
      "Filter (num_proc=4): 100%|██████████| 3147478/3147478 [00:01<00:00, 1777751.98 examples/s]\n",
      "Filter (num_proc=4): 100%|██████████| 393435/393435 [00:00<00:00, 1107624.83 examples/s]\n",
      "Filter (num_proc=4): 100%|██████████| 393436/393436 [00:00<00:00, 1116856.56 examples/s]\n",
      "Filter (num_proc=4): 100%|██████████| 3147478/3147478 [00:01<00:00, 1728401.60 examples/s]\n",
      "Filter (num_proc=4): 100%|██████████| 393435/393435 [00:00<00:00, 1105853.05 examples/s]\n",
      "Filter (num_proc=4): 100%|██████████| 393436/393436 [00:00<00:00, 1107045.09 examples/s]\n",
      "Filter (num_proc=4): 100%|██████████| 3147478/3147478 [00:01<00:00, 1724883.62 examples/s]\n",
      "Filter (num_proc=4): 100%|██████████| 393435/393435 [00:00<00:00, 1014361.12 examples/s]\n",
      "Filter (num_proc=4): 100%|██████████| 393436/393436 [00:00<00:00, 1103557.38 examples/s]\n",
      "Filter (num_proc=4): 100%|██████████| 3147478/3147478 [00:01<00:00, 1707799.26 examples/s]\n",
      "Filter (num_proc=4): 100%|██████████| 393435/393435 [00:00<00:00, 1091592.83 examples/s]\n",
      "Filter (num_proc=4): 100%|██████████| 393436/393436 [00:00<00:00, 1126203.66 examples/s]\n",
      "Filter (num_proc=4): 100%|██████████| 3147478/3147478 [00:01<00:00, 1735531.21 examples/s]\n",
      "Filter (num_proc=4): 100%|██████████| 393435/393435 [00:00<00:00, 1025299.04 examples/s]\n",
      "Filter (num_proc=4): 100%|██████████| 393436/393436 [00:00<00:00, 1095591.77 examples/s]\n",
      "Filter (num_proc=4): 100%|██████████| 3147478/3147478 [00:01<00:00, 1597074.05 examples/s]\n",
      "Filter (num_proc=4): 100%|██████████| 393435/393435 [00:00<00:00, 1074400.69 examples/s]\n",
      "Filter (num_proc=4): 100%|██████████| 393436/393436 [00:00<00:00, 1048717.94 examples/s]\n",
      "Filter (num_proc=4): 100%|██████████| 3147478/3147478 [00:01<00:00, 1605179.72 examples/s]\n",
      "Filter (num_proc=4): 100%|██████████| 393435/393435 [00:00<00:00, 1148668.25 examples/s]\n",
      "Filter (num_proc=4): 100%|██████████| 393436/393436 [00:00<00:00, 1132073.14 examples/s]\n",
      "Filter (num_proc=4): 100%|██████████| 3147478/3147478 [00:01<00:00, 1693722.29 examples/s]\n",
      "Filter (num_proc=4): 100%|██████████| 393435/393435 [00:00<00:00, 1056399.62 examples/s]\n",
      "Filter (num_proc=4): 100%|██████████| 393436/393436 [00:00<00:00, 1092783.29 examples/s]\n",
      "Filter (num_proc=4): 100%|██████████| 3147478/3147478 [00:01<00:00, 1642337.65 examples/s]\n",
      "Filter (num_proc=4): 100%|██████████| 393435/393435 [00:00<00:00, 1048639.30 examples/s]\n",
      "Filter (num_proc=4): 100%|██████████| 393436/393436 [00:00<00:00, 1071171.60 examples/s]\n",
      "Filter (num_proc=4): 100%|██████████| 3147478/3147478 [00:01<00:00, 1637678.81 examples/s]\n",
      "Filter (num_proc=4): 100%|██████████| 393435/393435 [00:00<00:00, 1009359.06 examples/s]\n",
      "Filter (num_proc=4): 100%|██████████| 393436/393436 [00:00<00:00, 1106649.38 examples/s]\n",
      "Filter (num_proc=4): 100%|██████████| 3147478/3147478 [00:01<00:00, 1680905.81 examples/s]\n",
      "Filter (num_proc=4): 100%|██████████| 393435/393435 [00:00<00:00, 1120064.88 examples/s]\n",
      "Filter (num_proc=4): 100%|██████████| 393436/393436 [00:00<00:00, 1134966.48 examples/s]\n"
     ]
    }
   ],
   "source": [
    "languages = ds['train'].unique('language')\n",
    "ds_types = ['train', 'validation', 'test']\n",
    "drop_columns = ['source', 'domain']\n",
    "ds = ds.remove_columns(drop_columns)\n",
    "# Create dictionary to store datasets for each language\n",
    "datasets = {}\n",
    "\n",
    "# Split train, validation and test for each language\n",
    "for lang in languages:\n",
    "    datasets[lang] = {}\n",
    "    for ds_type in ds_types:\n",
    "        datasets[lang][ds_type] = ds[ds_type].filter(\n",
    "            lambda batch: [x == lang for x in batch['language']],\n",
    "            batched = True,\n",
    "            num_proc=4\n",
    "            )\n",
    "        \n",
    "        # Reduce dataset by 100 times\n",
    "        rows_counter = datasets[lang][ds_type].num_rows\n",
    "        new_num_rows = round(rows_counter*0.01)\n",
    "        datasets[lang][ds_type] = datasets[lang][ds_type].shuffle(seed=42)\n",
    "        datasets[lang][ds_type] = datasets[lang][ds_type].select(range(new_num_rows))"
   ]
  },
  {
   "cell_type": "markdown",
   "id": "80cef1cc",
   "metadata": {},
   "source": [
    "### Czyszczenie datasetów z błędnych języków"
   ]
  },
  {
   "cell_type": "code",
   "execution_count": null,
   "id": "5643e0af",
   "metadata": {},
   "outputs": [
    {
     "name": "stderr",
     "output_type": "stream",
     "text": [
      "Filter (num_proc=4): 100%|██████████| 10305/10305 [00:09<00:00, 1121.32 examples/s]\n",
      "Filter (num_proc=4): 100%|██████████| 10281/10281 [00:09<00:00, 1134.04 examples/s]\n",
      "Filter (num_proc=4): 100%|██████████| 10267/10267 [00:09<00:00, 1109.08 examples/s]\n",
      "Filter (num_proc=4): 100%|██████████| 10261/10261 [00:09<00:00, 1033.45 examples/s]\n",
      "Filter (num_proc=4): 100%|██████████| 10253/10253 [00:13<00:00, 756.87 examples/s]\n",
      "Filter (num_proc=4): 100%|██████████| 10250/10250 [00:16<00:00, 615.81 examples/s]\n",
      "Filter (num_proc=4): 100%|██████████| 10249/10249 [00:15<00:00, 640.84 examples/s]\n",
      "Filter (num_proc=4): 100%|██████████| 10243/10243 [00:12<00:00, 823.90 examples/s] \n",
      "Filter (num_proc=4): 100%|██████████| 10240/10240 [00:10<00:00, 940.95 examples/s]\n",
      "Filter (num_proc=4): 100%|██████████| 10236/10236 [00:10<00:00, 1001.95 examples/s]\n",
      "Filter (num_proc=4): 100%|██████████| 10234/10234 [00:10<00:00, 1010.62 examples/s]\n",
      "Filter (num_proc=4): 100%|██████████| 10232/10232 [00:10<00:00, 1010.85 examples/s]\n",
      "Filter (num_proc=4): 100%|██████████| 10226/10226 [00:10<00:00, 987.22 examples/s] \n",
      "Filter (num_proc=4): 100%|██████████| 10223/10223 [00:11<00:00, 876.70 examples/s] \n",
      "Filter (num_proc=4): 100%|██████████| 10222/10222 [00:12<00:00, 837.64 examples/s] \n",
      "Filter (num_proc=4): 100%|██████████| 10220/10220 [00:12<00:00, 835.62 examples/s]\n",
      "Filter (num_proc=4): 100%|██████████| 10218/10218 [00:11<00:00, 872.29 examples/s] \n",
      "Filter (num_proc=4): 100%|██████████| 1305/1305 [00:02<00:00, 542.24 examples/s]\n",
      "Filter (num_proc=4): 100%|██████████| 1304/1304 [00:02<00:00, 619.55 examples/s]\n",
      "Filter (num_proc=4): 100%|██████████| 1301/1301 [00:02<00:00, 604.05 examples/s]\n",
      "Filter (num_proc=4): 100%|██████████| 1299/1299 [00:02<00:00, 640.42 examples/s]\n",
      "Filter (num_proc=4): 100%|██████████| 1299/1299 [00:02<00:00, 614.30 examples/s]\n",
      "Filter (num_proc=4): 100%|██████████| 1299/1299 [00:02<00:00, 616.28 examples/s]\n",
      "Filter (num_proc=4): 100%|██████████| 1299/1299 [00:01<00:00, 649.82 examples/s]\n",
      "Filter (num_proc=4): 100%|██████████| 1297/1297 [00:02<00:00, 629.19 examples/s]\n",
      "Filter (num_proc=4): 100%|██████████| 1296/1296 [00:02<00:00, 647.97 examples/s]\n",
      "Filter (num_proc=4): 100%|██████████| 1296/1296 [00:02<00:00, 604.66 examples/s]\n",
      "Filter (num_proc=4): 100%|██████████| 1296/1296 [00:01<00:00, 680.51 examples/s]\n",
      "Filter (num_proc=4): 100%|██████████| 1296/1296 [00:01<00:00, 668.70 examples/s]\n",
      "Filter (num_proc=4): 100%|██████████| 1295/1295 [00:01<00:00, 681.20 examples/s]\n",
      "Filter (num_proc=4): 100%|██████████| 1295/1295 [00:01<00:00, 695.15 examples/s]\n",
      "Filter (num_proc=4): 100%|██████████| 1295/1295 [00:01<00:00, 647.68 examples/s]\n",
      "Filter (num_proc=4): 100%|██████████| 1294/1294 [00:01<00:00, 701.95 examples/s]\n",
      "Filter (num_proc=4): 100%|██████████| 1294/1294 [00:01<00:00, 690.54 examples/s]\n",
      "Filter (num_proc=4): 100%|██████████| 1281/1281 [00:01<00:00, 696.17 examples/s]\n",
      "Filter (num_proc=4): 100%|██████████| 1278/1278 [00:01<00:00, 696.59 examples/s]\n",
      "Filter (num_proc=4): 100%|██████████| 1278/1278 [00:02<00:00, 623.94 examples/s]\n",
      "Filter (num_proc=4): 100%|██████████| 1277/1277 [00:01<00:00, 709.16 examples/s]\n",
      "Filter (num_proc=4): 100%|██████████| 1276/1276 [00:01<00:00, 678.53 examples/s]\n",
      "Filter (num_proc=4): 100%|██████████| 1276/1276 [00:01<00:00, 692.03 examples/s]\n",
      "Filter (num_proc=4): 100%|██████████| 1275/1275 [00:01<00:00, 694.85 examples/s]\n",
      "Filter (num_proc=4): 100%|██████████| 1275/1275 [00:01<00:00, 639.83 examples/s]\n",
      "Filter (num_proc=4): 100%|██████████| 1275/1275 [00:01<00:00, 654.71 examples/s]\n",
      "Filter (num_proc=4): 100%|██████████| 1275/1275 [00:01<00:00, 649.86 examples/s]\n",
      "Filter (num_proc=4): 100%|██████████| 1275/1275 [00:01<00:00, 641.57 examples/s]\n",
      "Filter (num_proc=4): 100%|██████████| 1275/1275 [00:01<00:00, 648.93 examples/s]\n",
      "Filter (num_proc=4): 100%|██████████| 1275/1275 [00:02<00:00, 606.81 examples/s]\n",
      "Filter (num_proc=4): 100%|██████████| 1275/1275 [00:01<00:00, 676.24 examples/s]\n",
      "Filter (num_proc=4): 100%|██████████| 1275/1275 [00:01<00:00, 663.90 examples/s]\n",
      "Filter (num_proc=4): 100%|██████████| 1275/1275 [00:01<00:00, 671.34 examples/s]\n",
      "Filter (num_proc=4): 100%|██████████| 1275/1275 [00:01<00:00, 661.27 examples/s]\n"
     ]
    }
   ],
   "source": [
    "from langdetect import detect\n",
    "\n",
    "def detect_language(text):\n",
    "    try:\n",
    "        return detect(text)\n",
    "    except:\n",
    "        return \"unknown\"\n",
    "    \n",
    "for ds_type in ds_types:\n",
    "        for lang in languages:\n",
    "            datasets['en'][ds_type] = datasets['en'][ds_type].filter(\n",
    "                lambda batch: [detect_language(x) == 'en' for x in batch['text']],\n",
    "                batched=True,\n",
    "                num_proc=4\n",
    "            )"
   ]
  },
  {
   "cell_type": "code",
   "execution_count": 26,
   "id": "9718600a",
   "metadata": {},
   "outputs": [
    {
     "data": {
      "text/plain": [
       "{'text': 'Not allowed to withdraw my funds, and was told I can only cash out if I deactivate or close the account. Well if u say so.',\n",
       " 'label': 'negative',\n",
       " 'language': 'en'}"
      ]
     },
     "execution_count": 26,
     "metadata": {},
     "output_type": "execute_result"
    }
   ],
   "source": [
    "datasets['en']['train'][0]"
   ]
  },
  {
   "cell_type": "markdown",
   "id": "a54002a2",
   "metadata": {},
   "source": [
    "### Tokenizacja"
   ]
  },
  {
   "cell_type": "code",
   "execution_count": 9,
   "id": "0595af64",
   "metadata": {},
   "outputs": [],
   "source": [
    "from transformers import BertTokenizer\n",
    "from datasets import concatenate_datasets"
   ]
  },
  {
   "cell_type": "code",
   "execution_count": 30,
   "id": "a6e27486",
   "metadata": {},
   "outputs": [
    {
     "name": "stderr",
     "output_type": "stream",
     "text": [
      "Map (num_proc=4): 100%|██████████| 15560/15560 [00:01<00:00, 8382.52 examples/s] \n",
      "Map (num_proc=4): 100%|██████████| 1959/1959 [00:00<00:00, 6640.81 examples/s]\n",
      "Map (num_proc=4): 100%|██████████| 1942/1942 [00:00<00:00, 6541.98 examples/s]\n"
     ]
    }
   ],
   "source": [
    "languages_to_process = ['en', 'es', 'zh']\n",
    "labels_id = {'negative': 0, 'neutral': 1, 'positive': 2}\n",
    "\n",
    "# Convert labels to IDs\n",
    "def convert_labels_to_ids(batch):\n",
    "    batch['label_id'] = [labels_id[label] for label in batch['label']]\n",
    "    return batch\n",
    "\n",
    "# train ds\n",
    "train_ds_list = [datasets[lang]['train'] for lang in languages_to_process]\n",
    "# Concatenate datasets for selected languages\n",
    "train_ds = concatenate_datasets(train_ds_list)\n",
    "train_ds = train_ds.map(convert_labels_to_ids, batched=True, num_proc=4)\n",
    "train_ds = train_ds.shuffle(seed=42)\n",
    "\n",
    "# eval ds\n",
    "eval_ds_list = [datasets[lang]['validation'] for lang in languages_to_process]\n",
    "# Concatenate datasets for selected languages\n",
    "eval_ds = concatenate_datasets(eval_ds_list)\n",
    "eval_ds = eval_ds.map(convert_labels_to_ids, batched=True, num_proc=4)\n",
    "eval_ds = eval_ds.shuffle(seed=42)\n",
    "\n",
    "# test ds\n",
    "test_ds_list = [datasets[lang]['test'] for lang in languages_to_process]\n",
    "# Concatenate datasets for selected languages\n",
    "test_ds = concatenate_datasets(test_ds_list)\n",
    "test_ds = test_ds.map(convert_labels_to_ids, batched=True, num_proc=4)\n",
    "test_ds = test_ds.shuffle(seed=42)"
   ]
  },
  {
   "cell_type": "code",
   "execution_count": 32,
   "id": "c1a08ae2",
   "metadata": {},
   "outputs": [
    {
     "name": "stdout",
     "output_type": "stream",
     "text": [
      "{'text': '很实用，点赞。。。:)', 'label': 'positive', 'language': 'zh', 'label_id': 2}\n"
     ]
    }
   ],
   "source": [
    "print(train_ds[0])"
   ]
  },
  {
   "cell_type": "code",
   "execution_count": null,
   "id": "ec9c9216",
   "metadata": {},
   "outputs": [
    {
     "name": "stdout",
     "output_type": "stream",
     "text": [
      "Tokenizing en dataset...\n"
     ]
    },
    {
     "name": "stderr",
     "output_type": "stream",
     "text": [
      "Map (num_proc=4): 100%|██████████| 1215709/1215709 [07:43<00:00, 2622.59 examples/s]\n",
      "Map: 100%|██████████| 1215709/1215709 [01:51<00:00, 10866.46 examples/s]\n"
     ]
    },
    {
     "name": "stdout",
     "output_type": "stream",
     "text": [
      "Tokenizing es dataset...\n"
     ]
    },
    {
     "name": "stderr",
     "output_type": "stream",
     "text": [
      "Map (num_proc=4): 100%|██████████| 178434/178434 [00:25<00:00, 7055.55 examples/s]\n",
      "Map: 100%|██████████| 178434/178434 [00:16<00:00, 11038.80 examples/s]\n"
     ]
    },
    {
     "name": "stdout",
     "output_type": "stream",
     "text": [
      "Tokenizing fr dataset...\n"
     ]
    },
    {
     "name": "stderr",
     "output_type": "stream",
     "text": [
      "Map (num_proc=4): 100%|██████████| 210298/210298 [00:40<00:00, 5220.27 examples/s]\n",
      "Map: 100%|██████████| 210298/210298 [00:19<00:00, 10751.26 examples/s]"
     ]
    },
    {
     "name": "stdout",
     "output_type": "stream",
     "text": [
      "\n",
      "Example of tokenized text:\n",
      "{'source': 'https://www.kaggle.com/datasets/choonkhonng/malaysia-restaurant-review-datasets', 'domain': 'restaurant reviews ', 'input_ids': [101, 138, 15198, 26069, 10169, 15198, 18301, 119, 23002, 10124, 27949, 13096, 119, 102, 0, 0, 0, 0, 0, 0, 0, 0, 0, 0, 0, 0, 0, 0, 0, 0, 0, 0, 0, 0, 0, 0, 0, 0, 0, 0, 0, 0, 0, 0, 0, 0, 0, 0, 0, 0, 0, 0, 0, 0, 0, 0, 0, 0, 0, 0, 0, 0, 0, 0, 0, 0, 0, 0, 0, 0, 0, 0, 0, 0, 0, 0, 0, 0, 0, 0, 0, 0, 0, 0, 0, 0, 0, 0, 0, 0, 0, 0, 0, 0, 0, 0, 0, 0, 0, 0, 0, 0, 0, 0, 0, 0, 0, 0, 0, 0, 0, 0, 0, 0, 0, 0, 0, 0, 0, 0, 0, 0, 0, 0, 0, 0, 0, 0], 'token_type_ids': [0, 0, 0, 0, 0, 0, 0, 0, 0, 0, 0, 0, 0, 0, 0, 0, 0, 0, 0, 0, 0, 0, 0, 0, 0, 0, 0, 0, 0, 0, 0, 0, 0, 0, 0, 0, 0, 0, 0, 0, 0, 0, 0, 0, 0, 0, 0, 0, 0, 0, 0, 0, 0, 0, 0, 0, 0, 0, 0, 0, 0, 0, 0, 0, 0, 0, 0, 0, 0, 0, 0, 0, 0, 0, 0, 0, 0, 0, 0, 0, 0, 0, 0, 0, 0, 0, 0, 0, 0, 0, 0, 0, 0, 0, 0, 0, 0, 0, 0, 0, 0, 0, 0, 0, 0, 0, 0, 0, 0, 0, 0, 0, 0, 0, 0, 0, 0, 0, 0, 0, 0, 0, 0, 0, 0, 0, 0, 0], 'special_tokens_mask': [1, 0, 0, 0, 0, 0, 0, 0, 0, 0, 0, 0, 0, 1, 1, 1, 1, 1, 1, 1, 1, 1, 1, 1, 1, 1, 1, 1, 1, 1, 1, 1, 1, 1, 1, 1, 1, 1, 1, 1, 1, 1, 1, 1, 1, 1, 1, 1, 1, 1, 1, 1, 1, 1, 1, 1, 1, 1, 1, 1, 1, 1, 1, 1, 1, 1, 1, 1, 1, 1, 1, 1, 1, 1, 1, 1, 1, 1, 1, 1, 1, 1, 1, 1, 1, 1, 1, 1, 1, 1, 1, 1, 1, 1, 1, 1, 1, 1, 1, 1, 1, 1, 1, 1, 1, 1, 1, 1, 1, 1, 1, 1, 1, 1, 1, 1, 1, 1, 1, 1, 1, 1, 1, 1, 1, 1, 1, 1], 'attention_mask': [1, 1, 1, 1, 1, 1, 1, 1, 1, 1, 1, 1, 1, 1, 0, 0, 0, 0, 0, 0, 0, 0, 0, 0, 0, 0, 0, 0, 0, 0, 0, 0, 0, 0, 0, 0, 0, 0, 0, 0, 0, 0, 0, 0, 0, 0, 0, 0, 0, 0, 0, 0, 0, 0, 0, 0, 0, 0, 0, 0, 0, 0, 0, 0, 0, 0, 0, 0, 0, 0, 0, 0, 0, 0, 0, 0, 0, 0, 0, 0, 0, 0, 0, 0, 0, 0, 0, 0, 0, 0, 0, 0, 0, 0, 0, 0, 0, 0, 0, 0, 0, 0, 0, 0, 0, 0, 0, 0, 0, 0, 0, 0, 0, 0, 0, 0, 0, 0, 0, 0, 0, 0, 0, 0, 0, 0, 0, 0], 'labels': 'positive'}\n"
     ]
    },
    {
     "name": "stderr",
     "output_type": "stream",
     "text": [
      "\n"
     ]
    }
   ],
   "source": [
    "tokenizer = BertTokenizer.from_pretrained(\"bert-base-multilingual-cased\")\n",
    "\n",
    "def tokenize_and_encode(examples):\n",
    "    return tokenizer(\n",
    "        examples['text'],\n",
    "        padding='max_length',\n",
    "        truncation=True,\n",
    "        max_length=128,  # BERT max sequence length\n",
    "        # return_tensors=None,  # Returns PyTorch tensors\n",
    "        # return_special_tokens_mask=True\n",
    "    )\n",
    "\n",
    "\n",
    "\n",
    "tokenized_datasets = {}\n",
    "for lang, dataset in example_datasets.items():\n",
    "    print(f\"Tokenizing {lang} dataset...\")\n",
    "    tokenized_datasets[lang] = dataset.map(\n",
    "        tokenize_and_encode,\n",
    "        batched=True,\n",
    "        batch_size=1000,  # Increased batch size\n",
    "        num_proc=4,       # Use multiple CPU cores\n",
    "        remove_columns=['text', 'language']  # Remove original columns we don't need\n",
    "    )\n",
    "    \n",
    "    # Convert label to tensor format\n",
    "    tokenized_datasets[lang] = tokenized_datasets[lang].map(\n",
    "        lambda x: {'labels': x['label']},\n",
    "        remove_columns=['label']\n",
    "    )\n",
    "\n",
    "print(\"\\nExample of tokenized text:\")\n",
    "print(tokenized_datasets[list(tokenized_datasets.keys())[0]][0])"
   ]
  }
 ],
 "metadata": {
  "kernelspec": {
   "display_name": ".venv",
   "language": "python",
   "name": "python3"
  },
  "language_info": {
   "codemirror_mode": {
    "name": "ipython",
    "version": 3
   },
   "file_extension": ".py",
   "mimetype": "text/x-python",
   "name": "python",
   "nbconvert_exporter": "python",
   "pygments_lexer": "ipython3",
   "version": "3.12.8"
  }
 },
 "nbformat": 4,
 "nbformat_minor": 5
}
